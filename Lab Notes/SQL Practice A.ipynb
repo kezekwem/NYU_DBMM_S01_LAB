{
  "cells": [
    {
      "cell_type": "code",
      "execution_count": 1,
      "metadata": {
        "id": "RLgKJ7-c8hLC"
      },
      "outputs": [
        {
          "name": "stderr",
          "output_type": "stream",
          "text": [
            "/var/folders/7d/7c4hrscx0vg406v60dbtjg9h0000gn/T/ipykernel_20242/499981955.py:2: DeprecationWarning: \n",
            "Pyarrow will become a required dependency of pandas in the next major release of pandas (pandas 3.0),\n",
            "(to allow more performant data types, such as the Arrow string type, and better interoperability with other libraries)\n",
            "but was not found to be installed on your system.\n",
            "If this would cause problems for you,\n",
            "please provide us feedback at https://github.com/pandas-dev/pandas/issues/54466\n",
            "        \n",
            "  import pandas as pd\n"
          ]
        }
      ],
      "source": [
        "import sqlite3\n",
        "import pandas as pd\n",
        "from typing import Union, Dict, List\n",
        "\n",
        "def SQLite3(db_name: str, sql_code: str = \"\", mode: str = \"\") -> Union[pd.DataFrame, str, Dict[str, List[str]]]:\n",
        "    \"\"\"\n",
        "    Execute SQL queries or list tables and columns in a SQLite database.\n",
        "    For SELECT queries, the results are displayed in a tabular format like pandas DataFrame.\n",
        "\n",
        "    :param db_name: Name of the SQLite database file.\n",
        "    :param sql_code: SQL query or command to execute. Default is an empty string.\n",
        "    :param mode: Operation mode (e.g., 'list_tables_and_columns'). Default is an empty string.\n",
        "    :return: Depending on the operation:\n",
        "             - DataFrame with query results for read operations,\n",
        "             - Confirmation message for write operations,\n",
        "             - Dictionary of tables and columns if listing tables and columns.\n",
        "    \"\"\"\n",
        "    # Connect to the SQLite database\n",
        "    conn = sqlite3.connect(db_name)\n",
        "\n",
        "    # Function to list all tables and their columns\n",
        "    def list_tables_and_columns() -> Dict[str, List[str]]:\n",
        "        tables_and_columns = {}\n",
        "        try:\n",
        "            cursor = conn.execute(\"SELECT name FROM sqlite_master WHERE type='table';\")\n",
        "            tables = cursor.fetchall()\n",
        "            for table in tables:\n",
        "                table_name = table[0]\n",
        "                cursor = conn.execute(f\"PRAGMA table_info({table_name});\")\n",
        "                columns = cursor.fetchall()\n",
        "                column_names = [column[1] for column in columns]\n",
        "                tables_and_columns[table_name] = column_names\n",
        "        except sqlite3.Error as e:\n",
        "            print(f\"An error occurred: {e}\")\n",
        "        return tables_and_columns\n",
        "\n",
        "    try:\n",
        "        if mode == \"list_tables_and_columns\":\n",
        "            return list_tables_and_columns()\n",
        "        else:\n",
        "            if sql_code.strip().upper().startswith(\"SELECT\"):\n",
        "                df = pd.read_sql_query(sql_code, conn)\n",
        "                return df\n",
        "            else:\n",
        "                conn.execute(sql_code)\n",
        "                conn.commit()\n",
        "                return \"Query executed successfully.\"\n",
        "    except sqlite3.Error as e:\n",
        "        return f\"An error occurred: {e}\"\n",
        "    finally:\n",
        "        conn.close()\n"
      ]
    },
    {
      "cell_type": "code",
      "execution_count": 2,
      "metadata": {
        "colab": {
          "base_uri": "https://localhost:8080/"
        },
        "id": "9bE41gbm_2Ti",
        "outputId": "802f868f-a893-456f-a90b-1bac0466d097"
      },
      "outputs": [
        {
          "name": "stdout",
          "output_type": "stream",
          "text": [
            "Query executed successfully.\n",
            "Query executed successfully.\n",
            "Query executed successfully.\n",
            "Query executed successfully.\n",
            "Query executed successfully.\n",
            "Query executed successfully.\n",
            "Query executed successfully.\n",
            "Query executed successfully.\n",
            "Query executed successfully.\n",
            "Query executed successfully.\n",
            "Query executed successfully.\n",
            "Query executed successfully.\n",
            "Query executed successfully.\n",
            "Query executed successfully.\n",
            "Query executed successfully.\n",
            "Query executed successfully.\n",
            "Query executed successfully.\n",
            "Query executed successfully.\n",
            "Query executed successfully.\n",
            "Query executed successfully.\n",
            "Query executed successfully.\n",
            "Query executed successfully.\n",
            "Query executed successfully.\n",
            "Query executed successfully.\n",
            "Query executed successfully.\n",
            "Query executed successfully.\n",
            "Query executed successfully.\n",
            "Query executed successfully.\n",
            "Query executed successfully.\n",
            "INNER JOIN Results:\n",
            "         customer_name  order_date  amount\n",
            "0             John Doe  2024-02-01   99.99\n",
            "1             John Doe  2024-02-01   99.99\n",
            "2             John Doe  2024-02-03   20.00\n",
            "3           Jane Smith  2024-02-02   20.00\n",
            "4   Kenechukwu Ezekwem  2024-02-02  100.00\n",
            "5   Kenechukwu Ezekwem  2024-02-03  150.00\n",
            "6        Alice Johnson  2024-02-04  200.00\n",
            "7            Bob White  2024-02-05  450.00\n",
            "8        Charlie Brown  2024-02-06  150.00\n",
            "9        Alice Johnson  2024-02-07  330.00\n",
            "10           Bob White  2024-02-08  150.00\n",
            "11       Charlie Brown  2024-02-09  350.00\n",
            "12        Diana Prince  2024-02-10  400.00\n",
            "13          Ethan Hunt  2024-02-11  450.00\n",
            "14     Fiona Gallagher  2024-02-12   17.00\n",
            "15        Diana Prince  2024-02-13  180.00\n",
            "16          Ethan Hunt  2024-02-14  600.00\n",
            "17     Fiona Gallagher  2024-02-15  378.00\n",
            "\n",
            "LEFT JOIN Results:\n",
            "         customer_name  order_date  amount\n",
            "0             John Doe  2024-02-01   99.99\n",
            "1             John Doe  2024-02-01   99.99\n",
            "2             John Doe  2024-02-03   20.00\n",
            "3           Jane Smith  2024-02-02   20.00\n",
            "4   Kenechukwu Ezekwem  2024-02-02  100.00\n",
            "5   Kenechukwu Ezekwem  2024-02-03  150.00\n",
            "6        Alice Johnson  2024-02-04  200.00\n",
            "7        Alice Johnson  2024-02-07  330.00\n",
            "8            Bob White  2024-02-05  450.00\n",
            "9            Bob White  2024-02-08  150.00\n",
            "10       Charlie Brown  2024-02-06  150.00\n",
            "11       Charlie Brown  2024-02-09  350.00\n",
            "12        Diana Prince  2024-02-10  400.00\n",
            "13        Diana Prince  2024-02-13  180.00\n",
            "14          Ethan Hunt  2024-02-11  450.00\n",
            "15          Ethan Hunt  2024-02-14  600.00\n",
            "16     Fiona Gallagher  2024-02-12   17.00\n",
            "17     Fiona Gallagher  2024-02-15  378.00\n",
            "\n",
            "CROSS JOIN Results (limited output for brevity):\n",
            "  customer_name  order_date  amount\n",
            "0      John Doe  2024-02-01   99.99\n",
            "1      John Doe  2024-02-01   99.99\n",
            "2      John Doe  2024-02-03   20.00\n",
            "3      John Doe  2024-02-02   20.00\n",
            "4      John Doe  2024-02-02  100.00\n"
          ]
        }
      ],
      "source": [
        "# Assuming SQLite3 function is defined as above\n",
        "\n",
        "# Database name\n",
        "db_name = \"marketing.db\"\n",
        "\n",
        "# Create tables and insert data for demonstration\n",
        "# Note: These SQL commands are for setup purposes. Ensure the database is set up before running join examples.\n",
        "setup_commands = [\n",
        "    \"\"\"\n",
        "    CREATE TABLE IF NOT EXISTS customers (\n",
        "        customer_id INTEGER PRIMARY KEY,\n",
        "        customer_name TEXT NOT NULL,\n",
        "        email TEXT NOT NULL\n",
        "    );\n",
        "    \"\"\",\n",
        "    \"\"\"\n",
        "    CREATE TABLE IF NOT EXISTS orders (\n",
        "        order_id INTEGER PRIMARY KEY,\n",
        "        customer_id INTEGER,\n",
        "        order_date TEXT NOT NULL,\n",
        "        amount DECIMAL(10, 2) NOT NULL,\n",
        "        FOREIGN KEY (customer_id) REFERENCES customers(customer_id)\n",
        "    );\n",
        "    \"\"\",\n",
        "    \"INSERT OR IGNORE INTO customers (customer_id, customer_name, email) VALUES (1, 'John Doe', 'john.doe@example.com');\",\n",
        "    \"INSERT OR IGNORE INTO customers (customer_id, customer_name, email) VALUES (2, 'Jane Smith', 'jane.smith@example.com');\",\n",
        "    \"INSERT OR IGNORE INTO customers (customer_id, customer_name, email) VALUES (3, 'Kenechukwu Ezekwem', 'kce232@nyu.edu');\",\n",
        "    \"INSERT OR IGNORE INTO customers (customer_id, customer_name, email) VALUES (4, 'Alice Johnson', 'alice.johnson@example.com');\",\n",
        "    \"INSERT OR IGNORE INTO customers (customer_id, customer_name, email) VALUES (5, 'Bob White', 'bob.white@example.com');\",\n",
        "    \"INSERT OR IGNORE INTO customers (customer_id, customer_name, email) VALUES (6, 'Charlie Brown', 'charlie.brown@example.com');\",\n",
        "    \"INSERT OR IGNORE INTO customers (customer_id, customer_name, email) VALUES (7, 'Diana Prince', 'diana.prince@example.com');\",\n",
        "    \"INSERT OR IGNORE INTO customers (customer_id, customer_name, email) VALUES (8, 'Ethan Hunt', 'ethan.hunt@example.com');\",\n",
        "    \"INSERT OR IGNORE INTO customers (customer_id, customer_name, email) VALUES (9, 'Fiona Gallagher', 'fiona.gallagher@example.com');\",\n",
        "    \"INSERT OR IGNORE INTO orders (order_id, customer_id, order_date, amount) VALUES (1, 1, '2024-02-01', 99.99);\",\n",
        "    \"INSERT OR IGNORE INTO orders (order_id, customer_id, order_date, amount) VALUES (2, 1, '2024-02-01', 99.99);\",\n",
        "    \"INSERT OR IGNORE INTO orders (order_id, customer_id, order_date, amount) VALUES (3, 1, '2024-02-03', 20.00);\",\n",
        "    \"INSERT OR IGNORE INTO orders (order_id, customer_id, order_date, amount) VALUES (4, 2, '2024-02-02', 20.00);\",\n",
        "    \"INSERT OR IGNORE INTO orders (order_id, customer_id, order_date, amount) VALUES (5, 3, '2024-02-02', 100.00);\",\n",
        "    \"INSERT OR IGNORE INTO orders (order_id, customer_id, order_date, amount) VALUES (6, 3, '2024-02-03', 150.00);\",\n",
        "    \"INSERT OR IGNORE INTO orders (order_id, customer_id, order_date, amount) VALUES (7, 4, '2024-02-04', 200.00);\",\n",
        "    \"INSERT OR IGNORE INTO orders (order_id, customer_id, order_date, amount) VALUES (8, 5, '2024-02-05', 450.00);\",\n",
        "    \"INSERT OR IGNORE INTO orders (order_id, customer_id, order_date, amount) VALUES (9, 6, '2024-02-06', 150.00);\",\n",
        "    \"INSERT OR IGNORE INTO orders (order_id, customer_id, order_date, amount) VALUES (10, 4, '2024-02-07', 330.00);\",\n",
        "    \"INSERT OR IGNORE INTO orders (order_id, customer_id, order_date, amount) VALUES (11, 5, '2024-02-08', 150.00);\",\n",
        "    \"INSERT OR IGNORE INTO orders (order_id, customer_id, order_date, amount) VALUES (12, 6, '2024-02-09', 350.00);\",\n",
        "    \"INSERT OR IGNORE INTO orders (order_id, customer_id, order_date, amount) VALUES (13, 7, '2024-02-10', 400.00);\",\n",
        "    \"INSERT OR IGNORE INTO orders (order_id, customer_id, order_date, amount) VALUES (14, 8, '2024-02-11', 450.00);\",\n",
        "    \"INSERT OR IGNORE INTO orders (order_id, customer_id, order_date, amount) VALUES (15, 9, '2024-02-12', 17.00);\",\n",
        "    \"INSERT OR IGNORE INTO orders (order_id, customer_id, order_date, amount) VALUES (16, 7, '2024-02-13', 180.00);\",\n",
        "    \"INSERT OR IGNORE INTO orders (order_id, customer_id, order_date, amount) VALUES (17, 8, '2024-02-14', 600.00);\",\n",
        "    \"INSERT OR IGNORE INTO orders (order_id, customer_id, order_date, amount) VALUES (18, 9, '2024-02-15', 378.00)\"\n",
        "]\n",
        "\n",
        "# Execute setup commands\n",
        "for cmd in setup_commands:\n",
        "    print(SQLite3(db_name, sql_code=cmd))\n",
        "\n",
        "# INNER JOIN Example\n",
        "inner_join_sql = \"\"\"\n",
        "SELECT customers.customer_name, orders.order_date, orders.amount\n",
        "FROM customers\n",
        "INNER JOIN orders ON customers.customer_id = orders.customer_id;\n",
        "\"\"\"\n",
        "print(\"INNER JOIN Results:\")\n",
        "print(SQLite3(db_name, inner_join_sql))\n",
        "\n",
        "# LEFT JOIN Example\n",
        "left_join_sql = \"\"\"\n",
        "SELECT customers.customer_name, orders.order_date, orders.amount\n",
        "FROM customers\n",
        "LEFT JOIN orders ON customers.customer_id = orders.customer_id;\n",
        "\"\"\"\n",
        "print(\"\\nLEFT JOIN Results:\")\n",
        "print(SQLite3(db_name, left_join_sql))\n",
        "\n",
        "# RIGHT JOIN is not directly supported in SQLite, but you can achieve similar results by reversing the join.\n",
        "\n",
        "# CROSS JOIN Example\n",
        "cross_join_sql = \"\"\"\n",
        "SELECT customers.customer_name, orders.order_date, orders.amount\n",
        "FROM customers\n",
        "CROSS JOIN orders;\n",
        "\"\"\"\n",
        "print(\"\\nCROSS JOIN Results (limited output for brevity):\")\n",
        "print(SQLite3(db_name, cross_join_sql)[:5])  # Limiting output for brevity\n",
        "\n",
        "\n"
      ]
    },
    {
      "cell_type": "markdown",
      "metadata": {
        "id": "hP5i4DMn2nUc"
      },
      "source": [
        "Certainly! Here's how you might present these SQL query exercises to your students in a Jupyter Notebook, including questions for them to answer based on the explanations provided. This format encourages critical thinking about how different types of `JOIN` operations and conditions can be used to retrieve specific data sets from a relational database.\n",
        "\n",
        "---\n",
        "\n",
        "## SQL Query Exercises\n",
        "\n",
        "In this exercise, you will explore different SQL queries using `JOIN` operations and conditional selections to retrieve data from a relational database. The database consists of two tables: `customers` and `orders`. Your goal is to construct queries that meet specific criteria outlined below and explain how each query works.\n",
        "\n",
        "### Database Schema\n",
        "\n",
        "- **customers:** customer_id (INTEGER), customer_name (TEXT), email (TEXT)\n",
        "- **orders:** order_id (INTEGER), customer_id (INTEGER, referencing customers), order_date (TEXT), amount (DECIMAL)\n",
        "\n",
        "### Exercises\n",
        "\n",
        "#### Exercise 1: INNER JOIN with Date Range\n",
        "\n",
        "Construct a SQL query to select the customer name, order date, and order amount for orders placed between February 1, 2024, and February 7, 2024. Use an `INNER JOIN` to match each order with its corresponding customer.\n",
        "\n",
        "```sql\n",
        "-- Your SQL query below:\n",
        "```\n",
        "\n",
        "**Question 1:** Explain how the `INNER JOIN` operation works in this query and why it is used instead of other types of joins."
      ]
    },
    {
      "cell_type": "code",
      "execution_count": 3,
      "metadata": {
        "colab": {
          "base_uri": "https://localhost:8080/"
        },
        "id": "4iP0ANBF_8YO",
        "outputId": "45c0ee18-068f-4b77-8387-5c3989ef16da"
      },
      "outputs": [
        {
          "name": "stdout",
          "output_type": "stream",
          "text": [
            "        customer_name  order_date  amount\n",
            "0            John Doe  2024-02-01   99.99\n",
            "1            John Doe  2024-02-01   99.99\n",
            "2            John Doe  2024-02-03   20.00\n",
            "3          Jane Smith  2024-02-02   20.00\n",
            "4  Kenechukwu Ezekwem  2024-02-02  100.00\n",
            "5  Kenechukwu Ezekwem  2024-02-03  150.00\n",
            "6       Alice Johnson  2024-02-04  200.00\n",
            "7           Bob White  2024-02-05  450.00\n",
            "8       Charlie Brown  2024-02-06  150.00\n",
            "9       Alice Johnson  2024-02-07  330.00\n"
          ]
        }
      ],
      "source": [
        "print(SQLite3(db_name,\n",
        "              \"\"\"\n",
        "SELECT customers.customer_name, orders.order_date, orders.amount\n",
        "FROM customers\n",
        "INNER JOIN orders ON customers.customer_id = orders.customer_id\n",
        "WHERE orders.order_date BETWEEN '2024-02-01' AND '2024-02-07';\n",
        "\n",
        "              \"\"\"))"
      ]
    },
    {
      "cell_type": "markdown",
      "metadata": {
        "id": "OMXEpj-n2_I8"
      },
      "source": [
        "#### Exercise 2: LEFT JOIN with Amount Range\n",
        "\n",
        "Write a SQL query to find all customers and any orders they might have placed within a specific amount range (50 to 200). Include all customers, even if they haven't placed an order within this range, using a `LEFT JOIN`.\n",
        "\n",
        "```sql\n",
        "-- Your SQL query below:\n",
        "```\n",
        "\n",
        "**Question 2:** Describe how the `LEFT JOIN` operation is utilized in this query to include all customers regardless of whether they have orders within the specified amount range. How does the use of `IFNULL` function enhance the readability of the query's results?"
      ]
    },
    {
      "cell_type": "code",
      "execution_count": 4,
      "metadata": {
        "colab": {
          "base_uri": "https://localhost:8080/"
        },
        "id": "1uBdccrO3GDN",
        "outputId": "a0c55037-bbff-47d5-b58b-907f236dfeaa"
      },
      "outputs": [
        {
          "name": "stdout",
          "output_type": "stream",
          "text": [
            "         customer_name  order_date  amount\n",
            "0             John Doe  2024-02-01   99.99\n",
            "1             John Doe  2024-02-01   99.99\n",
            "2           Jane Smith    No Order    0.00\n",
            "3   Kenechukwu Ezekwem  2024-02-02  100.00\n",
            "4   Kenechukwu Ezekwem  2024-02-03  150.00\n",
            "5        Alice Johnson  2024-02-04  200.00\n",
            "6            Bob White  2024-02-08  150.00\n",
            "7        Charlie Brown  2024-02-06  150.00\n",
            "8         Diana Prince  2024-02-13  180.00\n",
            "9           Ethan Hunt    No Order    0.00\n",
            "10     Fiona Gallagher    No Order    0.00\n"
          ]
        }
      ],
      "source": [
        "print(SQLite3(db_name,\n",
        "              \"\"\"\n",
        "SELECT customers.customer_name, IFNULL(orders.order_date, 'No Order') AS order_date, IFNULL(orders.amount, 0) AS amount\n",
        "FROM customers\n",
        "LEFT JOIN orders ON customers.customer_id = orders.customer_id AND orders.amount BETWEEN 50 AND 200;\n",
        "\n",
        "              \"\"\"))"
      ]
    },
    {
      "cell_type": "markdown",
      "metadata": {
        "id": "kKh2dq4p3GxZ"
      },
      "source": [
        "#### Exercise 3: Date and Amount Range with INNER JOIN\n",
        "\n",
        "Create a SQL query that selects orders based on both date (February 1, 2024, to February 15, 2024) and amount (greater than 100) ranges. Employ an `INNER JOIN` to correlate the orders with customer details.\n",
        "\n",
        "```sql\n",
        "-- Your SQL query below:\n",
        "```\n",
        "\n",
        "**Question 3:** Explain the rationale behind combining both date and amount conditions in this query. How does this approach help in retrieving a more specific subset of data?"
      ]
    },
    {
      "cell_type": "code",
      "execution_count": 5,
      "metadata": {
        "colab": {
          "base_uri": "https://localhost:8080/"
        },
        "id": "6ML7Mg-13Hf-",
        "outputId": "611040c9-d322-49bb-cdd7-04e48c3baef6"
      },
      "outputs": [
        {
          "name": "stdout",
          "output_type": "stream",
          "text": [
            "         customer_name  order_date  amount\n",
            "0   Kenechukwu Ezekwem  2024-02-03     150\n",
            "1        Alice Johnson  2024-02-04     200\n",
            "2            Bob White  2024-02-05     450\n",
            "3        Charlie Brown  2024-02-06     150\n",
            "4        Alice Johnson  2024-02-07     330\n",
            "5            Bob White  2024-02-08     150\n",
            "6        Charlie Brown  2024-02-09     350\n",
            "7         Diana Prince  2024-02-10     400\n",
            "8           Ethan Hunt  2024-02-11     450\n",
            "9         Diana Prince  2024-02-13     180\n",
            "10          Ethan Hunt  2024-02-14     600\n",
            "11     Fiona Gallagher  2024-02-15     378\n"
          ]
        }
      ],
      "source": [
        "print(SQLite3(db_name,\n",
        "              \"\"\"\n",
        "SELECT customers.customer_name, orders.order_date, orders.amount\n",
        "FROM customers\n",
        "INNER JOIN orders ON customers.customer_id = orders.customer_id\n",
        "WHERE orders.order_date BETWEEN '2024-02-01' AND '2024-02-15'\n",
        "AND orders.amount > 100;\n",
        "\n",
        "              \"\"\"))"
      ]
    },
    {
      "cell_type": "code",
      "execution_count": 6,
      "metadata": {
        "colab": {
          "base_uri": "https://localhost:8080/"
        },
        "id": "8RZq4krK36hO",
        "outputId": "61cf8f6b-4fc0-49fa-c08f-5390287029dc"
      },
      "outputs": [
        {
          "name": "stdout",
          "output_type": "stream",
          "text": [
            "        customer_name  total_spent\n",
            "0          Ethan Hunt      1050.00\n",
            "1           Bob White       600.00\n",
            "2        Diana Prince       580.00\n",
            "3       Alice Johnson       530.00\n",
            "4       Charlie Brown       500.00\n",
            "5     Fiona Gallagher       395.00\n",
            "6  Kenechukwu Ezekwem       250.00\n",
            "7            John Doe       219.98\n",
            "8          Jane Smith        20.00\n"
          ]
        }
      ],
      "source": [
        "print(SQLite3(db_name,\n",
        "              \"\"\"\n",
        "SELECT customers.customer_name, SUM(orders.amount) AS total_spent\n",
        "FROM customers\n",
        "JOIN orders ON customers.customer_id = orders.customer_id\n",
        "GROUP BY customers.customer_name\n",
        "ORDER BY total_spent DESC;\n",
        "\n",
        "              \"\"\"))"
      ]
    },
    {
      "cell_type": "markdown",
      "metadata": {
        "id": "l_5EEQoH5VXv"
      },
      "source": [
        "Here's of the SQL code:\n",
        "\n",
        "```sql\n",
        "SELECT customers.customer_name, SUM(orders.amount) AS total_spent\n",
        "FROM customers\n",
        "JOIN orders ON customers.customer_id = orders.customer_id\n",
        "GROUP BY customers.customer_name\n",
        "ORDER BY total_spent DESC;\n",
        "```\n",
        "\n",
        "### Breakdown of the Query:\n",
        "\n",
        "- **SELECT**: This part selects two columns: the `customer_name` from the `customers` table and the sum of `amount` from the `orders` table, labeling it as `total_spent`.\n",
        "- **FROM**: Specifies the `customers` table as the starting point for the join.\n",
        "- **JOIN**: Performs an inner join between the `customers` and `orders` tables based on the `customer_id` field. This ensures that only customers who have made orders are included.\n",
        "- **GROUP BY**: Aggregates the results by `customer_name`, so that the `SUM` function calculates the total amount spent for each customer.\n",
        "- **ORDER BY**: Sorts the results by `total_spent` in descending order, so that the customer who has spent the most appears first. If you want to list them in ascending order (from the least to the most spent), you could replace `DESC` with `ASC`.\n",
        "\n",
        "This query provides a clear view of customer spending, ranked from highest to lowest, which can be particularly useful for understanding customer value or for targeted marketing campaigns."
      ]
    },
    {
      "cell_type": "code",
      "execution_count": 7,
      "metadata": {
        "colab": {
          "base_uri": "https://localhost:8080/"
        },
        "id": "XC_vkjqW4zt_",
        "outputId": "06fe76b0-08ce-4e5b-cecf-5cc40b1a6be4"
      },
      "outputs": [
        {
          "name": "stdout",
          "output_type": "stream",
          "text": [
            "   order_date  total_spent\n",
            "0  2024-02-14          600\n"
          ]
        }
      ],
      "source": [
        "print(SQLite3(db_name,\n",
        "              \"\"\"\n",
        "SELECT order_date, SUM(amount) AS total_spent\n",
        "FROM orders\n",
        "GROUP BY order_date\n",
        "ORDER BY total_spent DESC\n",
        "LIMIT 1;\n",
        "\n",
        "              \"\"\"))"
      ]
    },
    {
      "cell_type": "code",
      "execution_count": 10,
      "metadata": {
        "id": "JiceLkKI5sCm"
      },
      "outputs": [
        {
          "name": "stdout",
          "output_type": "stream",
          "text": [
            "An error occurred: near \"DATABASE\": syntax error\n"
          ]
        }
      ],
      "source": []
    },
    {
      "cell_type": "code",
      "execution_count": null,
      "metadata": {},
      "outputs": [],
      "source": []
    }
  ],
  "metadata": {
    "colab": {
      "provenance": []
    },
    "kernelspec": {
      "display_name": "Python 3",
      "name": "python3"
    },
    "language_info": {
      "codemirror_mode": {
        "name": "ipython",
        "version": 3
      },
      "file_extension": ".py",
      "mimetype": "text/x-python",
      "name": "python",
      "nbconvert_exporter": "python",
      "pygments_lexer": "ipython3",
      "version": "3.12.0"
    }
  },
  "nbformat": 4,
  "nbformat_minor": 0
}
