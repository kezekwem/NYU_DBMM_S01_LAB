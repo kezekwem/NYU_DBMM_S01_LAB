{
 "cells": [
  {
   "cell_type": "markdown",
   "metadata": {},
   "source": [
    "### Title: Deciphering Profitability in PPC Advertising\n",
    "\n",
    "#### Part A - Slide Contents and Brief Discussion:\n",
    "\n",
    "- **Key Metrics in PPC Advertising**\n",
    "  - PPC advertising profitability is influenced by cost per click, clicks per day, conversion rate, and profit per sale.\n",
    "  - **Real-World Application**: An e-commerce company analyzes its PPC campaign for a specific product, estimating daily clicks, conversion rates, and average profit per sale to determine the campaign's viability.\n",
    "\n",
    "#### Part B1 - MS Excel Practice/Exercise/Steps:\n",
    "\n",
    "**File Name:** `Costperclickoptimization.xlsx`\n",
    "\n",
    "- **Calculating Monthly Profitability**\n",
    "  - **Step 1**: Calculate Conversions per Month in cell E15.\n",
    "    - Formula: `=Conversion_Rate*Clicks_per_day*Days_per_Month`\n",
    "    - Example: Assume a conversion rate of 5%, 10 clicks per day, and a 30-day month.\n",
    "  - **Step 2**: Calculate Monthly Profit in cell E16.\n",
    "    - Formula: `=Conversions_per_Month*Profit_per_sale`\n",
    "    - Example: With an average profit per sale of $10.\n",
    "  - **Step 3**: Calculate Monthly Click Costs in cell E17.\n",
    "    - Formula: `=Clicks_per_day*Days_per_Month*Cost_per_click`\n",
    "    - Example: Assuming a cost per click of $1.\n",
    "  - **Step 4**: Compute Net Monthly Profit in cell E18.\n",
    "    - Formula: `=Profit-Click_Costs`\n",
    "    - This step combines the profit from sales and subtracts the cost of clicks.\n",
    "\n",
    "- **Troubleshooting Tips**\n",
    "  - Ensure formulas reference correct cells.\n",
    "  - Check for accurate data entry, especially for conversion rates and costs.\n",
    "\n",
    "#### Part B2 - Python+SQLite3 Practice:"
   ]
  },
  {
   "cell_type": "code",
   "execution_count": null,
   "metadata": {},
   "outputs": [],
   "source": [
    "import pandas as pd\n",
    "import sqlite3\n",
    "\n",
    "# Update the file path and sheet name according to the provided path\n",
    "file_path = '/Users/kenechukwuezekwem/Library/CloudStorage/OneDrive-Personal/01_NDSU/WORK/NYU SPS IMC/INTG1-GC 1025 _ Database Management & Modeling/Session02/Session02_Lab/data/Costperclickoptimization.xlsx'\n",
    "sheet_name = 'Simple Model'\n",
    "\n",
    "# Load data from Excel\n",
    "data = pd.read_excel(file_path, sheet_name=sheet_name, usecols='D:E', skiprows=9, nrows=4)\n",
    "\n",
    "# Transpose the DataFrame\n",
    "data = data.T\n",
    "\n",
    "# Rename columns (make sure the new names match what's in your Excel sheet)\n",
    "data.columns = ['Conversion_Rate', 'Profit_per_sale', 'Days_per_Month', 'Clicks_per_day']\n",
    "\n",
    "# Convert to SQLite database\n",
    "conn = sqlite3.connect('ppc_analysis.db')\n",
    "data.to_sql('ppc_profitability', conn, if_exists='replace', index=False)\n",
    "\n",
    "# Now your SQL query will work!\n",
    "sql = \"\"\"\n",
    "SELECT\n",
    "(Conversion_Rate*Clicks_per_day*Days_per_Month) AS Conversions_per_Month,\n",
    "(Conversions_per_Month*Profit_per_sale) AS Monthly_Profit,\n",
    "(Clicks_per_day*Days_per_Month*Cost_per_click) AS Monthly_Click_Costs,\n",
    "(Monthly_Profit - Monthly_Click_Costs) AS Net_Monthly_Profit\n",
    "FROM ppc_profitability\n",
    "\"\"\"\n",
    "\n",
    "result = pd.read_sql_query(sql, conn)\n",
    "print(result)\n"
   ]
  },
  {
   "cell_type": "markdown",
   "metadata": {},
   "source": []
  },
  {
   "cell_type": "code",
   "execution_count": null,
   "metadata": {},
   "outputs": [],
   "source": []
  }
 ],
 "metadata": {
  "kernelspec": {
   "display_name": ".venv",
   "language": "python",
   "name": "python3"
  },
  "language_info": {
   "codemirror_mode": {
    "name": "ipython",
    "version": 3
   },
   "file_extension": ".py",
   "mimetype": "text/x-python",
   "name": "python",
   "nbconvert_exporter": "python",
   "pygments_lexer": "ipython3",
   "version": "3.12.0"
  }
 },
 "nbformat": 4,
 "nbformat_minor": 2
}
