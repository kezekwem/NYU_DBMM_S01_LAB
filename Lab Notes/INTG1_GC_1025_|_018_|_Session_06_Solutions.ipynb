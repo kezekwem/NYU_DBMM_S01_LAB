{
  "cells": [
    {
      "cell_type": "markdown",
      "metadata": {
        "id": "KszVT4QS2LcH"
      },
      "source": [
        "# **00 - Introduction to SQL and Database Management for Marketing Analytics**\n",
        "\n",
        "**_Please follow these steps (Ignore if you've done it already):_**\n",
        "\n",
        "1. **Go to File -> Save a copy in Drive.**\n",
        "    - This will create a duplicate of the notebook directly within your own Google Drive account.\n",
        "\n",
        "2. **Work on the copied notebook.**\n",
        "    - You can now modify the code, add notes, and experiment within your own copy.\n",
        "\n",
        "---\n",
        "\n",
        "<br>\n",
        "\n",
        "\n",
        "### **Understanding SQL**\n",
        "- **Definition**: **SQL (Structured Query Language) is a specialized language used for interacting with databases**. It is not a full programming language but a data sublanguage designed for defining and manipulating database content.\n",
        "- **History**: **Developed by IBM in the late 1970s**, SQL has been standardized by ANSI and ISO, evolving through versions like SQL-92, SQL:1999, SQL:2003, to SQL:2008, integrating features such as object-oriented concepts and XML support.\n",
        "\n",
        "<br>\n",
        "\n",
        "\n",
        "### **SQL in Practice**\n",
        "- **Implementation**: SQL commands are **executed via text processors or through graphical interfaces in database management systems (DBMS)** like Microsoft Access, SQL Server, Oracle, and MySQL.\n",
        "- **Relevance**: Knowing SQL **enhances capabilities in database management**, even in environments that provide graphical tools, by allowing dynamic SQL statement generation and comprehensive database manipulation.\n",
        "\n",
        "<br>\n",
        "\n",
        "### **Some SQL Categories**\n",
        "- **DDL (Data Definition Language)**: Used for **defining database structures**.\n",
        "- **DML (Data Manipulation Language)**: Enables **querying and modifying database data**. Includes SQL views for creating predefined queries.\n",
        "\n",
        "<br>\n",
        "\n",
        "### **Example Database: Wedgewood Pacific Corporation (WPC)**\n",
        "- **Overview**: **WPC, a company with a diverse departmental structure**, utilizes a database containing information on employees, departments, projects, and assets.\n",
        "- **Database Relations**:\n",
        "  - **DEPARTMENT**: Contains basic details about departments.\n",
        "  - **EMPLOYEE**: Lists employee details, linking to departments.\n",
        "  - **PROJECT**: Details projects, including departmental association and duration.\n",
        "  - **ASSIGNMENT**: Tracks employee hours on projects, linking employees to specific tasks.\n",
        "- **Key Concepts**:\n",
        "  - Primary and Foreign Keys: Essential for linking tables and ensuring data integrity.\n",
        "  - Referential Integrity: Ensures foreign keys accurately reference corresponding primary keys in related tables.\n",
        "\n",
        "<br>\n",
        "\n",
        "\n",
        "### **Practical Application**\n",
        "- **Real-World Relevance**: Understanding and manipulating these database structures through **SQL is crucial for marketing analytics**, offering insights into organizational operations, employee contributions, and project management.\n",
        "- **Analytical Rigor**: Through SQL, marketing students can **develop a foundational understanding of data structure, relational database management, and analytical skills necessary for extracting actionable insights** from complex data sets.\n"
      ]
    },
    {
      "cell_type": "markdown",
      "metadata": {
        "id": "RpZW_euyW7fR"
      },
      "source": [
        "## -> Data Types in SQL and SQLite3 for Marketing Analytics\n",
        "\n",
        "Understanding data types is fundamental for marketing analysts to effectively structure and query data within a database. Different SQL systems support various data types, but here we'll focus on common SQL data types and those specific to SQLite3.\n",
        "\n",
        "**Common SQL Data Types:**\n",
        "- **Numeric:** Integers (`INT`), decimals (`DECIMAL`), floating-point (`FLOAT`), and auto-incrementing numbers (`IDENTITY` in SQL Server, `AUTOINCREMENT` in SQLite for `INTEGER`).\n",
        "- **Character:** Fixed-length (`CHAR`) and variable-length strings (`VARCHAR`), useful for storing text data like names, addresses, or descriptions.\n",
        "- **Date and Time:** Date (`DATE`), time (`TIME`), and both (`DATETIME`), essential for tracking event times, campaign durations, or customer transactions.\n",
        "- **Binary:** Binary data types (`BINARY`, `VARBINARY`) for storing binary data such as images or file blobs.\n",
        "- **Boolean:** A `BOOLEAN` type representing true or false, practical for flags and switches in marketing campaigns.\n",
        "\n",
        "**SQLite3 Specific Data Types:**\n",
        "- **INTEGER:** The primary integer data type in SQLite. It can be auto-incremented.\n",
        "- **TEXT:** Equivalent to `VARCHAR` in SQL; used to store text data.\n",
        "- **BLOB:** For binary data; SQLite does not distinguish between `BLOB` and text data types, and it stores all data exactly as provided.\n",
        "- **REAL:** The floating-point numeric data type in SQLite, similar to `FLOAT` or `DOUBLE` in SQL.\n",
        "- **NUMERIC:** General numeric type that can store `INT`, `REAL`, `DECIMAL`, and boolean values. SQLite uses dynamic typing and can store any data type in `NUMERIC`.\n",
        "\n",
        "**Real-World Application in Marketing:**\n",
        "- **INTEGER:** Ideal for unique customer IDs or transaction numbers.\n",
        "- **TEXT:** Used for storing customer feedback or product descriptions.\n",
        "- **REAL and NUMERIC:** Perfect for financial calculations like budgeting, ROI analysis, or sales data.\n",
        "- **DATE and TIME:** Vital for campaign planning, tracking sale periods, or customer purchase history.\n",
        "\n",
        "**Type Affinity in SQLite3:**\n",
        "SQLite3 uses a concept called \"type affinity\" on column definitions, which is a recommended type rather than a strict one. This flexibility allows the database to store any type of data in any type of column but recommends a particular data type for each column based on the column's declared type.\n",
        "\n",
        "**Best Practices for Marketers:**\n",
        "- Choose data types that best reflect the nature of the data and its use in analysis.\n",
        "- Use appropriate types for dates and numbers to ensure accurate sorting, filtering, and calculations.\n",
        "- Store data in the most efficient data type to optimize database size and performance.\n"
      ]
    },
    {
      "cell_type": "markdown",
      "metadata": {
        "id": "xsPFDkVENv3Z"
      },
      "source": [
        "# **L01 - Data Definition Language (DDL)**"
      ]
    },
    {
      "cell_type": "code",
      "execution_count": 5,
      "metadata": {
        "id": "ezG9VAl11bPw"
      },
      "outputs": [],
      "source": [
        "import sqlite3\n",
        "import pandas as pd\n",
        "\n",
        "def print_db_info(db_file):\n",
        "    conn = sqlite3.connect(db_file)\n",
        "    cursor = conn.cursor()\n",
        "\n",
        "    # Fetch and print the list of tables in the database\n",
        "    cursor.execute(\"SELECT name FROM sqlite_master WHERE type='table'\")\n",
        "    tables = cursor.fetchall()\n",
        "    print(\"The database contains the following tables:\")\n",
        "    for table in tables:\n",
        "        print(table[0])\n",
        "\n",
        "    print(\"\\n\" + \"=\"*100 + \"\\n\")\n",
        "\n",
        "    # For each table, print the table schema in pandas info style\n",
        "    # and display the first few rows like pd.head(), including foreign key info\n",
        "    print(\"\\nPrinting tables in pandas info style and displaying first few rows like pd.head():\")\n",
        "    for table in tables:\n",
        "        table_name = table[0]\n",
        "        print(f\"\\n\\n\\n###---DB Table Name---###: {table_name}\")\n",
        "\n",
        "        # Printing table schema\n",
        "        cursor.execute(f\"PRAGMA table_info({table_name});\")\n",
        "        table_info = cursor.fetchall()\n",
        "        column_names = [row[1] for row in table_info]\n",
        "        data_types = [row[2] for row in table_info]\n",
        "        can_be_null = ['Yes' if row[3] == 0 else 'No' for row in table_info]\n",
        "        default_values = [row[4] for row in table_info]\n",
        "        primary_keys = ['Yes' if row[5] == 1 else 'No' for row in table_info]\n",
        "\n",
        "        # Fetch foreign key information\n",
        "        cursor.execute(f\"PRAGMA foreign_key_list({table_name});\")\n",
        "        fk_info = cursor.fetchall()\n",
        "        fk_columns = [row[3] for row in fk_info]  # Column name in the table that is a foreign key\n",
        "\n",
        "        # Mark primary and foreign keys\n",
        "        keys_info = []\n",
        "        for column in column_names:\n",
        "            if column in fk_columns:\n",
        "                key_type = 'Foreign'\n",
        "            elif primary_keys[column_names.index(column)] == 'Yes':\n",
        "                key_type = 'Primary'\n",
        "            else:\n",
        "                key_type = 'No'\n",
        "            keys_info.append(key_type)\n",
        "\n",
        "        table_dict = {\n",
        "            \"Column\": column_names,\n",
        "            \"Type\": data_types,\n",
        "            \"Can be Null\": can_be_null,\n",
        "            \"Default\": default_values,\n",
        "            \"Key\": keys_info  # Updated to include both primary and foreign keys\n",
        "        }\n",
        "        print(pd.DataFrame(table_dict))\n",
        "\n",
        "        # Displaying the first few rows of each table like pd.head()\n",
        "        try:\n",
        "            df = pd.read_sql_query(f\"SELECT * FROM {table_name}\", conn)\n",
        "            print(\"\\n-*Rows of Table*-:\")\n",
        "            print(df)\n",
        "        except Exception as e:\n",
        "            print(f\"Could not display rows for {table_name}: {e}\")\n",
        "\n",
        "\n",
        "    print(\"\\n\" + \"=\"*100 + \"\\n\")\n",
        "\n",
        "    conn.close()"
      ]
    },
    {
      "cell_type": "markdown",
      "metadata": {
        "id": "nzXt0E55Amer"
      },
      "source": [
        "## -> L01A ->  SQL for Data Definition in Marketing Analytics\n",
        "\n",
        "**Understanding SQL DDL (Data Definition Language)**\n",
        "In database management, SQL DDL is crucial for creating the structure of databases and tables which are essential for storing marketing data. It includes statements like `CREATE TABLE`, which is used to establish new tables with specific structures.\n",
        "\n",
        "**Table Creation Basics**\n",
        "- A table is defined with the `CREATE TABLE` statement followed by the table name and a set of column definitions.\n",
        "- Each column has a name, a data type (like `Char`, `Int`, `VarChar`, `DateTime`), and constraints (like `PRIMARY KEY`, `NOT NULL`, `NULL`, `UNIQUE`).\n",
        "- `DEFAULT` values can be set for columns to be used when no other value is provided.\n",
        "\n",
        "**Practical Example in Marketing**\n",
        "- `DEPARTMENT` table might store various marketing departments with a budget code and contact information.\n",
        "- `EMPLOYEE` table holds details about marketing team members, ensuring unique email addresses with the `UNIQUE` constraint.\n",
        "- `PROJECT` table tracks marketing projects, setting a default value for maximum hours using `DEFAULT`.\n",
        "\n",
        "**Column Data Types and Constraints**\n",
        "- `Char` and `VarChar` handle text data, the latter being more space-efficient as it stores variable-length data.\n",
        "- `Numeric(8,2)` indicates a numeric value with 2 decimal places.\n",
        "- Constraints ensure data integrity; `PRIMARY KEY` identifies unique rows, `NOT NULL` ensures a value must be entered, and `UNIQUE` prevents duplicates.\n",
        "\n",
        "**Real-World Relevance**\n",
        "- In a marketing database, ensuring unique email addresses prevents communication mishaps.\n",
        "- Defaulting to a specific department can streamline data entry for new employees focused on a primary area like 'Human Resources'.\n",
        "\n",
        "**Data Types and DBMS Specifics**\n",
        "- While standard SQL data types are used, each DBMS might have additional types. For marketing analytics, choosing the right data type can impact data storage and query efficiency.\n",
        "\n",
        "\n",
        "**Python Code with sqlite3**\n",
        "- This Python code uses `sqlite3`, which is typically included in Python standard libraries, to execute SQL DDL statements, mimicking the actions described in the provided SQL content.\n",
        "  - Marketing students should understand how to translate SQL DDL into Python code to manage their marketing databases.\n"
      ]
    },
    {
      "cell_type": "markdown",
      "metadata": {
        "id": "EGfj7YUgNRQd"
      },
      "source": [
        "## -> L01B -> SQL Table Constraints in Marketing Analytics\n",
        "\n",
        "**Defining Primary Keys**\n",
        "- Primary keys uniquely identify each record in a table and are essential for relational database integrity, crucial in marketing analytics for tracking unique customer data, campaign elements, or sales transactions.\n",
        "- Table constraints with `CONSTRAINT` keyword provide a standardized way of defining primary keys and other constraints, enhancing database structure clarity.\n",
        "\n",
        "**Advantages of Table Constraints**\n",
        "- **Composite Keys:** Necessary for defining a primary key across multiple columns, useful for linking complex marketing data like assignment of employees to multiple projects.\n",
        "- **Naming Constraints:** Offers control over constraint names, aiding in database administration and maintenance.\n",
        "- **Surrogate Keys:** Enables the use of surrogate keys, which are artificial keys often used when natural primary keys are not available or practical.\n",
        "\n",
        "**Real-World Application in Marketing**\n",
        "- For example, in a marketing context, a composite key in an `ASSIGNMENT` table could link marketing projects to team members, ensuring data about who is working on what is organized and accessible.\n",
        "\n",
        "<br>\n",
        "\n",
        "**Python Code with sqlite3**\n",
        "\n",
        "**Note:** SQLite does not support the `IDENTITY` property used in SQL Server for auto-incrementing keys. In SQLite, the `AUTOINCREMENT` keyword can be used in a similar fashion, but it is not necessary unless you need a guarantee that the auto-incremented values are strictly monotonically increasing. SQLite by default will auto-increment integer primary keys without this keyword.\n"
      ]
    },
    {
      "cell_type": "markdown",
      "metadata": {
        "id": "bY8-6cdVzJ7t"
      },
      "source": [
        "## -> L01 C -> Foreign Key Constraints in Marketing Databases\n",
        "\n",
        "**Introduction to Foreign Keys**\n",
        "Foreign keys are a fundamental aspect of relational databases, ensuring referential integrity between tables. They create a link between two tables, ensuring that the data corresponds to existing, valid data in another table.\n",
        "\n",
        "**Defining Foreign Keys with Constraints**\n",
        "- A foreign key constraint is defined in the context of a table and specifies that a column or a set of columns from one table references the primary key columns of another table.\n",
        "- This establishes a relationship between the two tables, which is essential for joining data in queries, a common task in marketing analytics for merging customer data with purchase orders, for example.\n",
        "\n",
        "**Actions on Update and Delete**\n",
        "- `ON UPDATE CASCADE`: Automatically updates the foreign key column values in the referencing table when the primary key value is updated in the referenced table.\n",
        "- `ON DELETE CASCADE`: Deletes all rows in the referencing table that correspond to the deleted row in the referenced table.\n",
        "- `NO ACTION`: Specifies that if the referenced row is updated or deleted, no action will be taken in the referencing table. This is important when the referenced data should not change, like a historical log of marketing campaigns.\n",
        "\n",
        "**Practical Application in Marketing**\n",
        "- Foreign key constraints are used to maintain consistent data across different marketing efforts. For example, if a department's name changes, all employee records will automatically update, reflecting this change in the `EMPLOYEE` table.\n",
        "\n",
        "<br>\n",
        "\n",
        "### **Python Code with sqlite3**\n",
        "**Note:** SQLite's syntax differs slightly from other SQL dialects. For instance, SQLite uses `AUTOINCREMENT` keyword for automatically incrementing primary keys, and unlike some SQL databases, `ON UPDATE CASCADE\n",
        "\n",
        "` and `ON DELETE CASCADE` must be declared at the table level, not the column level. This script reflects SQLite's conventions and sets up a marketing database schema with appropriate foreign key constraints for maintaining data integrity.\n",
        "\n",
        "Understanding these relationships and constraints is vital for marketing professionals as it affects data management, reporting, and the accuracy of insights derived from marketing analytics."
      ]
    },
    {
      "cell_type": "code",
      "execution_count": 6,
      "metadata": {
        "colab": {
          "base_uri": "https://localhost:8080/"
        },
        "id": "Q0AKSJJ-NgMs",
        "outputId": "d8a8667d-e81a-4b3f-a282-2908ad15a05c"
      },
      "outputs": [
        {
          "ename": "OperationalError",
          "evalue": "database is locked",
          "output_type": "error",
          "traceback": [
            "\u001b[0;31m---------------------------------------------------------------------------\u001b[0m",
            "\u001b[0;31mOperationalError\u001b[0m                          Traceback (most recent call last)",
            "Cell \u001b[0;32mIn[6], line 20\u001b[0m\n\u001b[1;32m     16\u001b[0m conn \u001b[38;5;241m=\u001b[39m sqlite3\u001b[38;5;241m.\u001b[39mconnect(\u001b[38;5;124m'\u001b[39m\u001b[38;5;124mmarketing_db.sqlite\u001b[39m\u001b[38;5;124m'\u001b[39m)\n\u001b[1;32m     17\u001b[0m cursor \u001b[38;5;241m=\u001b[39m conn\u001b[38;5;241m.\u001b[39mcursor()\n\u001b[0;32m---> 20\u001b[0m \u001b[43mcursor\u001b[49m\u001b[38;5;241;43m.\u001b[39;49m\u001b[43mexecute\u001b[49m\u001b[43m(\u001b[49m\u001b[38;5;124;43m'\u001b[39;49m\u001b[38;5;124;43mDROP TABLE IF EXISTS ASSIGNMENT\u001b[39;49m\u001b[38;5;124;43m'\u001b[39;49m\u001b[43m)\u001b[49m\n\u001b[1;32m     21\u001b[0m cursor\u001b[38;5;241m.\u001b[39mexecute(\u001b[38;5;124m'\u001b[39m\u001b[38;5;124mDROP TABLE IF EXISTS PROJECT\u001b[39m\u001b[38;5;124m'\u001b[39m)\n\u001b[1;32m     22\u001b[0m cursor\u001b[38;5;241m.\u001b[39mexecute(\u001b[38;5;124m'\u001b[39m\u001b[38;5;124mDROP TABLE IF EXISTS EMPLOYEE\u001b[39m\u001b[38;5;124m'\u001b[39m)\n",
            "\u001b[0;31mOperationalError\u001b[0m: database is locked"
          ]
        }
      ],
      "source": [
        "import sqlite3\n",
        "import sys\n",
        "\n",
        "# Suppress start-up warnings\n",
        "if not sys.warnoptions:\n",
        "    import warnings\n",
        "    warnings.simplefilter(\"ignore\")\n",
        "\n",
        "# Ensure sqlite3 is available, as Google Colab should already include it.\n",
        "try:\n",
        "    import sqlite3\n",
        "except ImportError:\n",
        "    !pip install sqlite3\n",
        "\n",
        "# Establishing a connection to the SQLite database\n",
        "conn = sqlite3.connect('marketing_db.sqlite')\n",
        "cursor = conn.cursor()\n",
        "\n",
        "\n",
        "cursor.execute('DROP TABLE IF EXISTS ASSIGNMENT')\n",
        "cursor.execute('DROP TABLE IF EXISTS PROJECT')\n",
        "cursor.execute('DROP TABLE IF EXISTS EMPLOYEE')\n",
        "cursor.execute('DROP TABLE IF EXISTS DEPARTMENT')\n",
        "\n",
        "cursor.execute('''CREATE TABLE DEPARTMENT (\n",
        "   DepartmentName CHAR(35) NOT NULL,\n",
        "   BudgetCode CHAR(30) NOT NULL,\n",
        "   OfficeNumber CHAR(15) NOT NULL,\n",
        "   Phone CHAR(12) NOT NULL,\n",
        "   CONSTRAINT DEPARTMENT_PK PRIMARY KEY (DepartmentName)\n",
        ")''')\n",
        "\n",
        "cursor.execute('''CREATE TABLE EMPLOYEE (\n",
        "   EmployeeNumber INTEGER PRIMARY KEY,\n",
        "   FirstName CHAR(25) NOT NULL,\n",
        "   LastName CHAR(25) NOT NULL,\n",
        "   Department CHAR(35) NOT NULL DEFAULT 'Human Resources',\n",
        "   Phone CHAR(12),\n",
        "   Email VARCHAR(100) NOT NULL UNIQUE,\n",
        "   CONSTRAINT EMP_DEPART_FK FOREIGN KEY (Department)\n",
        "      REFERENCES DEPARTMENT (DepartmentName)\n",
        "         ON UPDATE CASCADE\n",
        ")''')\n",
        "\n",
        "cursor.execute('''CREATE TABLE PROJECT (\n",
        "   ProjectID INTEGER PRIMARY KEY,\n",
        "   ProjectName CHAR(50) NOT NULL,\n",
        "   Department CHAR(35) NOT NULL,\n",
        "   MaxHours NUMERIC(8,2) NOT NULL DEFAULT 100,\n",
        "   StartDate DATETIME,\n",
        "   EndDate DATETIME,\n",
        "   CONSTRAINT PROJ_DEPART_FK FOREIGN KEY (Department)\n",
        "      REFERENCES DEPARTMENT (DepartmentName)\n",
        "         ON UPDATE CASCADE\n",
        ")''')\n",
        "\n",
        "cursor.execute('''CREATE TABLE ASSIGNMENT (\n",
        "   ProjectID INTEGER NOT NULL,\n",
        "   EmployeeNumber INTEGER NOT NULL,\n",
        "   HoursWorked NUMERIC(6,2),\n",
        "   CONSTRAINT ASSIGNMENT_PK PRIMARY KEY (ProjectID, EmployeeNumber),\n",
        "   CONSTRAINT ASSIGN_PROJ_FK FOREIGN KEY (ProjectID)\n",
        "      REFERENCES PROJECT (ProjectID)\n",
        "         ON DELETE CASCADE,\n",
        "   CONSTRAINT ASSIGN_EMP_FK FOREIGN KEY (EmployeeNumber)\n",
        "      REFERENCES EMPLOYEE (EmployeeNumber)\n",
        "        ON DELETE NO ACTION\n",
        ")''')\n",
        "\n",
        "conn.commit()\n",
        "conn.close()\n",
        "print_db_info(\"marketing_db.sqlite\")"
      ]
    },
    {
      "cell_type": "markdown",
      "metadata": {
        "id": "WNxMMTXwJDB-"
      },
      "source": [
        "# **L02 - Data Manipulation Language (DML)**"
      ]
    },
    {
      "cell_type": "markdown",
      "metadata": {
        "id": "WY6Yzcq9IwbF"
      },
      "source": [
        "## -> L02A -> Understanding SQL Data Modification\n",
        "- SQL Data Manipulation Language (DML) is used for querying and modifying table data.\n",
        "- There are three main operations: `INSERT`, `UPDATE`, and `DELETE`.\n",
        "- We focus on `INSERT` to populate database tables with data.\n",
        "### Inserting Data into Tables\n",
        "- The `INSERT INTO` statement adds data to a table.\n",
        "- If all column data is provided, use: `INSERT INTO table_name VALUES(...);`.\n",
        "- If not all columns are provided, specify column names: `INSERT INTO table_name (column1, column2) VALUES(...);`.\n",
        "- The order of values must match the order of the specified columns.\n",
        "- All `NOT NULL` columns must have a value; otherwise, a `NULL` value is inserted.\n",
        "### SQL Comments\n",
        "- SQL comments are enclosed in `/ ... /` and are ignored during execution.\n",
        "- They are useful for documenting SQL statements.\n",
        "### Practical Examples\n",
        "- Inserting department data: `INSERT INTO DEPARTMENT VALUES('Marketing', 'BC-700-10', 'BLDG02-200', '360-287-8700');`\n",
        "- Inserting employee data with missing phone number: `INSERT INTO EMPLOYEE(FirstName, LastName, Department, Email) VALUES('James', 'Nestor', 'InfoSystems', 'James.Nestor@wpc.com');`\n",
        "- Inserting project data with a `NULL` end date: `INSERT INTO PROJECT (ProjectName, Department, MaxHours, StartDate) VALUES('2012 Q4 Portfolio Analysis', 'Finance', 140.00, '05-OCT-12');`\n",
        "### Python Code with sqlite3"
      ]
    },
    {
      "cell_type": "code",
      "execution_count": null,
      "metadata": {
        "colab": {
          "base_uri": "https://localhost:8080/"
        },
        "id": "N_QarpOd0U1f",
        "outputId": "33620f7f-4760-47e6-931a-0e1198f73d90"
      },
      "outputs": [],
      "source": [
        "import sqlite3\n",
        "import sys\n",
        "\n",
        "# Suppress start-up warnings\n",
        "if not sys.warnoptions:\n",
        "    import warnings\n",
        "    warnings.simplefilter(\"ignore\")\n",
        "\n",
        "# Ensure sqlite3 is available, as Google Colab should already include it.\n",
        "try:\n",
        "    import sqlite3\n",
        "except ImportError:\n",
        "    !pip install sqlite3\n",
        "\n",
        "# Establishing a connection to the SQLite database\n",
        "conn = sqlite3.connect('marketing_db.sqlite')\n",
        "cursor = conn.cursor()\n",
        "\n",
        "##\n",
        "# Insert data into DEPARTMENT table\n",
        "department_data = [\n",
        "  ('Administration', 'BC-100-10', 'BLDG01-300', '360-285-8100'),\n",
        "  ('Legal', 'BC-200-10', 'BLDG01-200', '360-285-8200'),\n",
        "  ('Accounting', 'BC-300-10', 'BLDG01-100', '360-285-8300'),\n",
        "  ('Finance', 'BC-400-10', 'BLDG01-140', '360-285-8400'),\n",
        "  ('Human Resources', 'BC-500-10', 'BLDG01-180', '360-285-8500'),\n",
        "  ('Production', 'BC-600-10', 'BLDG02-100', '360-287-8600'),\n",
        "  ('Marketing', 'BC-700-10', 'BLDG02-200', '360-287-8700'),\n",
        "  ('InfoSystems', 'BC-800-10', 'BLDG02-270', '360-287-8800')\n",
        "]\n",
        "for dept in department_data:\n",
        "  cursor.execute('INSERT INTO DEPARTMENT (DepartmentName, BudgetCode, OfficeNumber, Phone) VALUES (?, ?, ?, ?)', dept)\n",
        "\n",
        "##\n",
        "# Insert data into EMPLOYEE table\n",
        "employee_data = [\n",
        "  (1, 'Mary', 'Jacobs', 'Administration', '360-285-8110', 'Mary.Jacobs@wpc.com'),\n",
        "  (2, 'Rosalie', 'Jackson', 'Administration', '360-285-8120', 'Rosalie.Jackson@wpc.com'),\n",
        "  (3, 'Richard', 'Bandalone', 'Legal', '360-285-8210', 'Richard.Bandalone@wpc.com'),\n",
        "  (4, 'Tom', 'Caruthers', 'Accounting', '360-285-8310', 'Tom.Caruthers@wpc.com'),\n",
        "  (5, 'Heather', 'Jones', 'Accounting', '360-285-8320', 'Heather.Jones@wpc.com'),\n",
        "  (6, 'Mary', 'Abernathy', 'Finance', '360-285-8410', 'Mary.Abernathy@wpc.com'),\n",
        "  (7, 'George', 'Smith', 'Human Resources', '360-285-8510', 'George.Smith@wpc.com'),\n",
        "  (8, 'Tom', 'Jackson', 'Production', '360-287-8610', 'Tom.Jackson@wpc.com'),\n",
        "  (9, 'George', 'Jones', 'Production', '360-287-8620', 'George.Jones@wpc.com'),\n",
        "  (10, 'Ken', 'Numoto', 'Marketing', '360-287-8710', 'Ken.Numoto@wpc.com'),\n",
        "  (11, 'James', 'Nestor', 'InfoSystems', None,'James.Nestor@wpc.com'),\n",
        "  (12, 'Rick', 'Brown', 'InfoSystems', '360-287-8820', 'Rick.Brown@wpc.com')\n",
        "]\n",
        "for emp in employee_data:\n",
        "  cursor.execute('INSERT INTO EMPLOYEE (EmployeeNumber, FirstName, LastName,  Department, Phone, Email) VALUES (?, ?, ?, ?, ?, ?)', emp)\n",
        "\n",
        "##\n",
        "# Insert data into PROJECT table\n",
        "project_data = [\n",
        "  (1000, '2012 Q3 Product Plan', 'Marketing', 135.00, '2012-05-10', '2012-06-15'),\n",
        "  (1100, '2012 Q3 Portfolio Analysis', 'Finance', 120.00, '2012-07-05', '2012-07-25'),\n",
        "  (1200, '2012 Q3 Tax Preparation', 'Accounting', 145.00, '2012-08-10', '2012-10-25'),\n",
        "  (1300, '2012 Q4 Product Plan', 'Marketing', 150.00, '2012-08-10', '2012-09-15'),\n",
        "  (1400, '2012 Q4 Portfolio Analysis', 'Finance', 140.00, '2012-10-05', None)\n",
        "]\n",
        "\n",
        "for proj in project_data:\n",
        "  cursor.execute('INSERT INTO PROJECT (ProjectID, ProjectName, Department, MaxHours, StartDate, EndDate) VALUES (?, ?, ?, ?, ?, ?)', proj)\n",
        "\n",
        "\n",
        "##\n",
        "# Insert data into ASSIGNMENT table\n",
        "assignment_data = [\n",
        "  (1000, 1, 30.0),\n",
        "  (1000, 8, 75.0),\n",
        "  (1000, 10, 55.0),\n",
        "  (1100, 4, 40.0),\n",
        "  (1100, 6, 45.0),\n",
        "  (1200, 1, 25.0),\n",
        "  (1200, 2, 20.0),\n",
        "  (1200, 4, 45.0),\n",
        "  (1200, 5, 40.0),\n",
        "  (1300, 1, 35.0),\n",
        "  (1300, 8, 80.0),\n",
        "  (1300, 10, 50.0),\n",
        "  (1400, 4, 15.0),\n",
        "  (1400, 5, 10.0),\n",
        "  (1400, 6, 27.5)\n",
        "]\n",
        "for assigned in assignment_data:\n",
        "  cursor.execute('INSERT INTO ASSIGNMENT (ProjectID, EmployeeNumber, HoursWorked) VALUES (?, ?, ?)', assigned)\n",
        "\n",
        "##\n",
        "# Commit changes and close the connection\n",
        "conn.commit()\n",
        "conn.close()\n",
        "\n",
        "##\n",
        "# Predefined function to print database info\n",
        "print_db_info(\"marketing_db.sqlite\")"
      ]
    },
    {
      "cell_type": "markdown",
      "metadata": {
        "id": "VQ-BSY747HRy"
      },
      "source": [
        "## -> L02B -> **Marketing Database Analytics: Understanding SQL Queries**\n",
        "In this class, we will explore the foundational SQL SELECT/FROM/WHERE framework, which is essential for querying databases in marketing analytics. We'll use Python's `sqlite3` module to interact with our `marketing_db.sqlite` database.\n",
        "### **The SELECT/FROM/WHERE Framework**\n",
        "The SQL SELECT command is used to specify the columns you want to retrieve from a database table. The FROM clause indicates the table from which to select, and the WHERE clause filters the results based on a condition.\n",
        "- Basic Query Structure: `SELECT ColumnNames FROM TableName WHERE SomeConditionExists;`\n",
        "- Reading Specific Columns: To read certain columns from a table, list them after SELECT.\n",
        "- Resulting Relation: The result of a SELECT statement is always a relation, which can be a table or a single value.\n",
        "### **Reading Specified Columns from a Single Table**\n",
        "Let's look at how to query specific columns from a table called `PROJECT`.\n",
        "- Example Query: `SELECT ProjectName, Department, MaxHours FROM PROJECT;`\n",
        "- Order Matters: The order of columns in the SELECT statement determines their order in the result set.\n",
        "### **Eliminating Duplicate Rows**\n",
        "By default, SQL does not eliminate duplicate rows. To ensure uniqueness, use the `DISTINCT` keyword.\n",
        "- Example Query with DISTINCT: `SELECT DISTINCT Department FROM PROJECT;`\n",
        "### **Python Code with sqlite3**\n",
        "Below is the Python `sqlite3` equivalent of the SQL provided, including the installation of necessary libraries for a Google Colab environment.\n"
      ]
    },
    {
      "cell_type": "code",
      "execution_count": null,
      "metadata": {
        "id": "S8xxuCSiSgDO"
      },
      "outputs": [],
      "source": [
        "import sqlite3\n",
        "import pandas as pd\n",
        "import re\n",
        "\n",
        "def transform_right_to_left_join(query):\n",
        "    \"\"\"\n",
        "    Transforms SQL queries with RIGHT JOINs to use LEFT JOINs instead,\n",
        "    rearranging the tables and join conditions appropriately.\n",
        "    \"\"\"\n",
        "    # Regular expression to find and capture parts of the RIGHT JOIN query for transformation\n",
        "    right_join_pattern = re.compile(\n",
        "        r'SELECT (.+?)\\sFROM \\((.+?) AS (.+?) JOIN (.+?) AS (.+?)\\sON (.+?)\\)\\sRIGHT JOIN (.+?) AS (.+?)\\sON (.+?)\\sORDER BY (.+);',\n",
        "        re.IGNORECASE | re.DOTALL\n",
        "    )\n",
        "\n",
        "    # Replacement pattern to transform the query\n",
        "    replacement_pattern = r'SELECT \\1 FROM \\7 AS \\8 LEFT JOIN (\\4 AS \\5 JOIN \\2 AS \\3 ON \\6) ON \\9 ORDER BY \\10;'\n",
        "\n",
        "    # Replace the matched pattern in the query\n",
        "    transformed_query = right_join_pattern.sub(replacement_pattern, query)\n",
        "\n",
        "    return transformed_query\n",
        "\n",
        "def SQLite3_Practice(database_file, query):\n",
        "    \"\"\"Executes an SQLite3 query on a database, reads results into a pandas DataFrame, and prints the output.\n",
        "\n",
        "    Args:\n",
        "        database_file (str): Path to the SQLite3 database file.\n",
        "        query (str): The SQL query to execute.\n",
        "    \"\"\"\n",
        "    # Transform RIGHT JOINs to LEFT JOINs in the query\n",
        "    query = transform_right_to_left_join(query)\n",
        "\n",
        "    try:\n",
        "        # Connect to the database\n",
        "        conn = sqlite3.connect(database_file)\n",
        "        cursor = conn.cursor()\n",
        "\n",
        "        # Execute the query\n",
        "        cursor.execute(query)\n",
        "\n",
        "        # Fetch the results\n",
        "        rows = cursor.fetchall()\n",
        "\n",
        "        # Extract column names\n",
        "        columns = [desc[0] for desc in cursor.description]\n",
        "\n",
        "        # Create and print the DataFrame\n",
        "        df = pd.DataFrame(rows, columns=columns)\n",
        "\n",
        "        # Adjust the index to start from 1 instead of 0\n",
        "        df.index = df.index + 1\n",
        "\n",
        "        print(df)\n",
        "\n",
        "    except sqlite3.Error as e:\n",
        "        print(\"Error:\", e)\n",
        "    finally:\n",
        "        # Ensure the connection is closed even if an error occurs\n",
        "        if conn:\n",
        "            conn.close()\n",
        "\n",
        "# Example usage\n",
        "database_file = 'marketing_db.sqlite'  # Replace with your database file"
      ]
    },
    {
      "cell_type": "markdown",
      "metadata": {
        "id": "NzB8NfNkuAdc"
      },
      "source": [
        "### ///***Reading Specified Columns from a Single Table***\n",
        "The following SQL statement queries (reads) three of the six columns of the PROJECT table:"
      ]
    },
    {
      "cell_type": "code",
      "execution_count": null,
      "metadata": {
        "colab": {
          "base_uri": "https://localhost:8080/"
        },
        "id": "Nbo03-M4VVOZ",
        "outputId": "d4190100-13d6-45c3-add8-3849cfdd8bd8"
      },
      "outputs": [],
      "source": [
        "# Query 1\n",
        "query = \"\"\"\n",
        "SELECT ProjectName, Department, MaxHours FROM PROJECT\n",
        "\"\"\"\n",
        "SQLite3_Practice(database_file, query)"
      ]
    },
    {
      "cell_type": "code",
      "execution_count": null,
      "metadata": {
        "colab": {
          "base_uri": "https://localhost:8080/"
        },
        "id": "aJscluiV9qVC",
        "outputId": "ce8a9e9a-df17-4240-9897-de95bc8b713d"
      },
      "outputs": [],
      "source": [
        "# Query 2\n",
        "query = \"\"\"\n",
        "SELECT DISTINCT Department FROM PROJECT\n",
        "\"\"\"\n",
        "SQLite3_Practice(database_file, query)"
      ]
    },
    {
      "cell_type": "code",
      "execution_count": null,
      "metadata": {
        "colab": {
          "base_uri": "https://localhost:8080/"
        },
        "id": "AZOS-cR7-fFj",
        "outputId": "c9f15403-d8a8-4bff-e701-b772b00aafc1"
      },
      "outputs": [],
      "source": [
        "# Query 3 - The next SQL statement obtains only the Department column from the PROJECT table:\n",
        "query = \"\"\"\n",
        "SELECT Department\n",
        "FROM PROJECT;\n",
        "\"\"\"\n",
        "SQLite3_Practice(database_file, query)\n"
      ]
    },
    {
      "cell_type": "code",
      "execution_count": null,
      "metadata": {
        "colab": {
          "base_uri": "https://localhost:8080/"
        },
        "id": "p5jwgyTCvGV1",
        "outputId": "f9837366-d930-4060-ee56-b6eaae49be2a"
      },
      "outputs": [],
      "source": [
        "# Query 4 - If you want the DBMS to check for and eliminate duplicate rows, you must use the DISTINCT keyword, as follows:\n",
        "query = \"\"\"\n",
        "/* *** SQL-QUERY-CH03-04 *** */\n",
        "SELECT DISTINCT Department\n",
        "FROM PROJECT;\n",
        "\"\"\"\n",
        "SQLite3_Practice(database_file, query)\n"
      ]
    },
    {
      "cell_type": "code",
      "execution_count": null,
      "metadata": {
        "colab": {
          "base_uri": "https://localhost:8080/"
        },
        "id": "4LF5lcY6vTOa",
        "outputId": "e9d52cc3-1d9b-4b32-bec2-82a3f0abd553"
      },
      "outputs": [],
      "source": [
        "# Query 5 - If you want the DBMS to check for and eliminate duplicate rows, you must use the DISTINCT keyword, as follows:\n",
        "query = \"\"\"\n",
        "/* *** SQL-QUERY-CH03-04 *** */\n",
        "SELECT DISTINCT Department\n",
        "FROM PROJECT;\n",
        "\"\"\"\n",
        "SQLite3_Practice(database_file, query)\n"
      ]
    },
    {
      "cell_type": "markdown",
      "metadata": {
        "id": "XJuBSaiNvd_X"
      },
      "source": [
        "### ///***Reading Specified Rows from a Single Table***"
      ]
    },
    {
      "cell_type": "code",
      "execution_count": null,
      "metadata": {
        "colab": {
          "base_uri": "https://localhost:8080/"
        },
        "id": "do1IfnLOvhbF",
        "outputId": "38cade03-fe7c-4b90-9322-42cdd4f32b49"
      },
      "outputs": [],
      "source": [
        "# Query 5 - If you want the DBMS to check for and eliminate duplicate rows,\n",
        "# you must use the DISTINCT keyword, as follows:\n",
        "\n",
        "query = \"\"\"\n",
        "/* *** SQL-QUERY-CH03-05 *** */\n",
        "SELECT ProjectID, ProjectName, Department, MaxHours,\n",
        "StartDate, EndDate\n",
        "FROM PROJECT\n",
        "WHERE Department = 'Finance';\n",
        "\"\"\"\n",
        "SQLite3_Practice(database_file, query)\n"
      ]
    },
    {
      "cell_type": "code",
      "execution_count": null,
      "metadata": {
        "colab": {
          "base_uri": "https://localhost:8080/"
        },
        "id": "EIMth8F2vt1U",
        "outputId": "a9d10cc0-f58b-4328-eaa6-a7cf2735b1c4"
      },
      "outputs": [],
      "source": [
        "# Query 6 - selects all columns from PROJECT where the value of the MaxHours\n",
        "# column is greater than 135\n",
        "\n",
        "query = \"\"\"\n",
        "/* *** SQL-QUERY-CH03-07 *** */\n",
        "SELECT *\n",
        "FROM PROJECT\n",
        "WHERE MaxHours > 135;\n",
        "\"\"\"\n",
        "SQLite3_Practice(database_file, query)"
      ]
    },
    {
      "cell_type": "code",
      "execution_count": null,
      "metadata": {
        "colab": {
          "base_uri": "https://localhost:8080/"
        },
        "id": "dZAH1t2dvtsP",
        "outputId": "e1baad8a-c421-46df-db77-1bb010a765a5"
      },
      "outputs": [],
      "source": [
        "# Query 7 - the following query determines which projects are sponsored by the finance department and are allocated a maximum number of hours\n",
        "# greater than 135\n",
        "query = \"\"\"\n",
        "/* *** SQL-QUERY-CH03-08 *** */\n",
        "SELECT *\n",
        "FROM PROJECT\n",
        "WHERE Department = 'Finance' AND MaxHours > 135;\n",
        "\"\"\"\n",
        "SQLite3_Practice(database_file, query)"
      ]
    },
    {
      "cell_type": "markdown",
      "metadata": {
        "id": "gSxdn0JjwiYP"
      },
      "source": [
        "### ///***Reading Specified Columns and Specified Rows from a Single Table***"
      ]
    },
    {
      "cell_type": "code",
      "execution_count": null,
      "metadata": {
        "colab": {
          "base_uri": "https://localhost:8080/"
        },
        "id": "fflZ6AVPvtkD",
        "outputId": "e8f33708-fd2e-46fb-de5a-68d38b43dacd"
      },
      "outputs": [],
      "source": [
        "# Query 8 - to obtain only the FirstName, LastName, Phone, and Department values of employees in the accounting department, you use:\n",
        "\n",
        "query = \"\"\"\n",
        "/* *** SQL-QUERY-CH03-08 *** */\n",
        "SELECT *\n",
        "FROM PROJECT\n",
        "WHERE Department = 'Finance' AND MaxHours > 135;\n",
        "\"\"\"\n",
        "SQLite3_Practice(database_file, query)"
      ]
    },
    {
      "cell_type": "code",
      "execution_count": null,
      "metadata": {
        "colab": {
          "base_uri": "https://localhost:8080/"
        },
        "id": "n4ekBpabxJQ4",
        "outputId": "8c0fda7d-3880-4a97-a511-c6d573fa34c0"
      },
      "outputs": [],
      "source": [
        "# Query 9 - to obtain only the FirstName, LastName, Phone, and Department values of employees\n",
        "# in the accounting department, you use:\n",
        "\n",
        "query = \"\"\"\n",
        "/* *** SQL-QUERY-CH03-09 *** */\n",
        "SELECT FirstName, LastName, Phone, Department\n",
        "FROM EMPLOYEE\n",
        "WHERE Department = 'Accounting';\n",
        "\"\"\"\n",
        "SQLite3_Practice(database_file, query)"
      ]
    },
    {
      "cell_type": "code",
      "execution_count": null,
      "metadata": {
        "colab": {
          "base_uri": "https://localhost:8080/"
        },
        "id": "6uR0SiqEvtb-",
        "outputId": "8b3836e0-c7da-4e14-9e6f-edd1fd5fe6ae"
      },
      "outputs": [],
      "source": [
        "# Query 10 - the following query uses the AND keyword to ask for employees that\n",
        "# work in accounting and have the phone number 360-285-8310:\n",
        "query = \"\"\"\n",
        "/* *** SQL-QUERY-CH03-10 *** */\n",
        "SELECT FirstName, LastName, Phone, Department\n",
        "FROM EMPLOYEE\n",
        "WHERE Department = 'Accounting'\n",
        "AND Phone = '360-285-8310';\n",
        "\"\"\"\n",
        "SQLite3_Practice(database_file, query)"
      ]
    },
    {
      "cell_type": "code",
      "execution_count": null,
      "metadata": {
        "colab": {
          "base_uri": "https://localhost:8080/"
        },
        "id": "LwkyEFPzvtVK",
        "outputId": "3d9b5443-3d41-4134-939c-a31ddbb576a4"
      },
      "outputs": [],
      "source": [
        "# Query 11 - the following query uses the OR keyword to ask for employees that work in\n",
        "# accounting or have the phone number 360-285-8410:\n",
        "query = \"\"\"\n",
        "/* *** SQL-QUERY-CH03-11 *** */\n",
        "SELECT FirstName, LastName, Phone, Department\n",
        "FROM EMPLOYEE\n",
        "WHERE Department = 'Accounting'\n",
        "OR Phone = '360-285-8410';\n",
        "\"\"\"\n",
        "SQLite3_Practice(database_file, query)"
      ]
    },
    {
      "cell_type": "code",
      "execution_count": null,
      "metadata": {
        "colab": {
          "base_uri": "https://localhost:8080/"
        },
        "id": "CWgPWHIcvtNe",
        "outputId": "753a6c4d-1d6b-4b22-ae14-a9859bec60bb"
      },
      "outputs": [],
      "source": [
        "# Query 12 - In this query, a row will be displayed if it has a Department value equal to Accounting,\n",
        "# Finance, or Marketing.\n",
        "query = \"\"\"\n",
        "/* *** SQL-QUERY-CH03-12 *** */\n",
        "SELECT FirstName, LastName, Phone, Department\n",
        "FROM EMPLOYEE\n",
        "WHERE Department IN ('Accounting', 'Finance',\n",
        "'Marketing');\n",
        "\"\"\"\n",
        "SQLite3_Practice(database_file, query)"
      ]
    },
    {
      "cell_type": "code",
      "execution_count": null,
      "metadata": {
        "colab": {
          "base_uri": "https://localhost:8080/"
        },
        "id": "a7xSZ3pZvtF-",
        "outputId": "cac461aa-0496-4f84-f25c-9c1c94b76621"
      },
      "outputs": [],
      "source": [
        "# Query 13 - To select rows that do not have any of these Department values, you would use the\n",
        "# NOT keyword in the NOT IN phrase, as follows:\n",
        "query = \"\"\"\n",
        "/* *** SQL-QUERY-CH03-13 *** */\n",
        "SELECT FirstName, LastName, Phone, Department\n",
        "FROM EMPLOYEE\n",
        "WHERE Department NOT IN ('Accounting', 'Finance',\n",
        "'Marketing');\n",
        "\"\"\"\n",
        "SQLite3_Practice(database_file, query)"
      ]
    },
    {
      "cell_type": "markdown",
      "metadata": {
        "id": "jqrj5vXlzZYF"
      },
      "source": [
        "### ///***Ranges, Wildcards, and Nulls in WHERE Clauses***"
      ]
    },
    {
      "cell_type": "code",
      "execution_count": null,
      "metadata": {
        "colab": {
          "base_uri": "https://localhost:8080/"
        },
        "id": "m-s-VsEGvs9x",
        "outputId": "22ec6f4f-574d-4c60-c265-19e58be969f5"
      },
      "outputs": [],
      "source": [
        "# Query 14 - WHERE clauses can refer to ranges of values and partial values. The BETWEEN keyword\n",
        "# is used for ranges of values. For example, the statement:\n",
        "query = \"\"\"\n",
        "/* *** SQL-QUERY-CH03-14 *** */\n",
        "SELECT FirstName, LastName, Phone, Department\n",
        "FROM EMPLOYEE\n",
        "WHERE EmployeeNumber BETWEEN 2 AND 5;\n",
        "\"\"\"\n",
        "SQLite3_Practice(database_file, query)"
      ]
    },
    {
      "cell_type": "code",
      "execution_count": null,
      "metadata": {
        "colab": {
          "base_uri": "https://localhost:8080/"
        },
        "id": "-ENk9ACevswg",
        "outputId": "ab0afc8f-48c9-40ab-b180-4edf3ecfc82d"
      },
      "outputs": [],
      "source": [
        "# Query 15 - Note that the SQL keyword BETWEEN includes the end points, and thus SQLQUERY-\n",
        "# CH03-14 is equivalent to the following query, which uses the SQL comparison\n",
        "# operators >5 (greater than or equal to) and <5 (less than or equal to):\n",
        "query = \"\"\"\n",
        "/* *** SQL-QUERY-CH03-15 *** */\n",
        "SELECT FirstName, LastName, Phone, Department\n",
        "FROM EMPLOYEE\n",
        "WHERE EmployeeNumber >= 2\n",
        "AND EmployeeNumber <= 5;\n",
        "\"\"\"\n",
        "SQLite3_Practice(database_file, query)"
      ]
    },
    {
      "cell_type": "code",
      "execution_count": null,
      "metadata": {
        "colab": {
          "base_uri": "https://localhost:8080/"
        },
        "id": "W0_JWBjuvsgr",
        "outputId": "3e656d9d-10cd-4900-9277-eedfc1e786c9"
      },
      "outputs": [],
      "source": [
        "# Query 16 - In the following query, LIKE is used with the underscore symbol to find values that fit\n",
        "# a pattern:\n",
        "query = \"\"\"\n",
        "/* *** SQL-QUERY-CH03-16 *** */\n",
        "SELECT *\n",
        "FROM PROJECT\n",
        "WHERE ProjectName LIKE '2012 Q_ Portfolio Analysis';\n",
        "\"\"\"\n",
        "SQLite3_Practice(database_file, query)"
      ]
    },
    {
      "cell_type": "code",
      "execution_count": null,
      "metadata": {
        "colab": {
          "base_uri": "https://localhost:8080/"
        },
        "id": "XL44iJYG0kQ-",
        "outputId": "8d2d27d7-57f2-46f0-af3f-3e3510aa56d1"
      },
      "outputs": [],
      "source": [
        "# Query 17 - To find all employees who have a Phone value that begins with 360-287-,\n",
        "# you can use four underscores to represent any last four digits, as follows:\n",
        "query = \"\"\"\n",
        "/* *** SQL-QUERY-CH03-17 *** */\n",
        "SELECT *\n",
        "FROM EMPLOYEE\n",
        "WHERE Phone LIKE '360-287-____';\n",
        "\"\"\"\n",
        "SQLite3_Practice(database_file, query)"
      ]
    },
    {
      "cell_type": "code",
      "execution_count": null,
      "metadata": {
        "colab": {
          "base_uri": "https://localhost:8080/"
        },
        "id": "fibZ6HKu0kvM",
        "outputId": "9084f419-9a61-4835-fe1e-771276cdbe83"
      },
      "outputs": [],
      "source": [
        "# Query 18 - Because the percent sign represents one or more unknown characters,\n",
        "# another way to write\n",
        "# the query for employees who have a phone number that starts with 360-287- is:\n",
        "\n",
        "query = \"\"\"\n",
        "/* *** SQL-QUERY-CH03-18 *** */\n",
        "SELECT *\n",
        "FROM EMPLOYEE\n",
        "WHERE Phone LIKE '360-287-%';\n",
        "\"\"\"\n",
        "SQLite3_Practice(database_file, query)"
      ]
    },
    {
      "cell_type": "code",
      "execution_count": null,
      "metadata": {
        "colab": {
          "base_uri": "https://localhost:8080/"
        },
        "id": "wqOo32wy2LJi",
        "outputId": "10fe91ca-57f5-420c-a9d3-f027c61747de"
      },
      "outputs": [],
      "source": [
        "# Query 19 - If you want to find all the employees who work in departments that end in ing, you can\n",
        "# use the % character as follows:\n",
        "query = \"\"\"\n",
        "/* *** SQL-QUERY-CH03-19 *** */\n",
        "SELECT *\n",
        "FROM EMPLOYEE\n",
        "WHERE Department LIKE '%ing';\n",
        "\"\"\"\n",
        "SQLite3_Practice(database_file, query)"
      ]
    },
    {
      "cell_type": "code",
      "execution_count": null,
      "metadata": {
        "colab": {
          "base_uri": "https://localhost:8080/"
        },
        "id": "12GGpfdF3SzF",
        "outputId": "c453d31f-f891-4e28-87f4-15031bf6d42f"
      },
      "outputs": [],
      "source": [
        "# Query 20 - if you want to find all the employees who work in departments that do not end in\n",
        "# 'ing', you can use the following SQL query:\n",
        "query = \"\"\"\n",
        "SELECT *\n",
        "FROM EMPLOYEE\n",
        "WHERE Department NOT LIKE '%ing';\n",
        "\"\"\"\n",
        "SQLite3_Practice(database_file, query)"
      ]
    },
    {
      "cell_type": "code",
      "execution_count": null,
      "metadata": {
        "colab": {
          "base_uri": "https://localhost:8080/"
        },
        "id": "iKzgpoTO2LA1",
        "outputId": "283244c6-988b-48b5-fe98-3e0dee82b98a"
      },
      "outputs": [],
      "source": [
        "# Query 21 - #The following SQL will find the names and departments\n",
        "# of all employees who have a null value for Phone:\n",
        "query = \"\"\"\n",
        "/* *** SQL-QUERY-CH03-21 *** */\n",
        "SELECT FirstName, LastName, Phone, Department\n",
        "FROM EMPLOYEE\n",
        "WHERE Phone IS NULL;\n",
        "\"\"\"\n",
        "SQLite3_Practice(database_file, query)"
      ]
    },
    {
      "cell_type": "code",
      "execution_count": null,
      "metadata": {
        "colab": {
          "base_uri": "https://localhost:8080/"
        },
        "id": "fphFjOtW2K2B",
        "outputId": "27e582fc-e104-41b1-e852-fc4cd76bce92"
      },
      "outputs": [],
      "source": [
        "# Query 22 - if you want to find all the employees who do have\n",
        "# phone numbers, you can use the following SQL query:\n",
        "query = \"\"\"\n",
        "/* *** SQL-QUERY-CH03-22 *** */\n",
        "SELECT FirstName, LastName, Phone, Department\n",
        "FROM EMPLOYEE\n",
        "WHERE Phone IS NOT NULL;\n",
        "\"\"\"\n",
        "SQLite3_Practice(database_file, query)"
      ]
    },
    {
      "cell_type": "markdown",
      "metadata": {
        "id": "-xBWMtST67pQ"
      },
      "source": [
        "### ///***Sorting the Results of a Query***"
      ]
    },
    {
      "cell_type": "code",
      "execution_count": null,
      "metadata": {
        "colab": {
          "base_uri": "https://localhost:8080/"
        },
        "id": "qomAjYMO7AH9",
        "outputId": "764ea35e-42e2-4ccd-8a00-98d5671fdf4a"
      },
      "outputs": [],
      "source": [
        "# Query 23 - following will display the names, phone numbers, and departments of all employees, sorted\n",
        "# by Department:\n",
        "query = \"\"\"\n",
        "/* *** SQL-QUERY-CH03-23 *** */\n",
        "SELECT FirstName, LastName, Phone, Department\n",
        "FROM EMPLOYEE\n",
        "ORDER BY Department;\n",
        "\"\"\"\n",
        "SQLite3_Practice(database_file, query)"
      ]
    },
    {
      "cell_type": "code",
      "execution_count": null,
      "metadata": {
        "colab": {
          "base_uri": "https://localhost:8080/"
        },
        "id": "u9KhYuaA7WPT",
        "outputId": "56a8f200-ce12-4490-b291-b6c3da4f1f29"
      },
      "outputs": [],
      "source": [
        "# Query 24 -  By default, SQL sorts in ascending order. The ASC keyword and DESC keyword can\n",
        "# be used to specify ascending and descending order when necessary. Thus, to sort employees\n",
        "# in descending order by Department, use:\n",
        "query = \"\"\"\n",
        "/* *** SQL-QUERY-CH03-24 *** */\n",
        "SELECT FirstName, LastName, Phone, Department\n",
        "FROM EMPLOYEE\n",
        "ORDER BY Department DESC;\n",
        "\"\"\"\n",
        "SQLite3_Practice(database_file, query)"
      ]
    },
    {
      "cell_type": "code",
      "execution_count": null,
      "metadata": {
        "colab": {
          "base_uri": "https://localhost:8080/"
        },
        "id": "9MfQ71RU7pxd",
        "outputId": "b3cbfcb8-8152-4be0-eee8-5ee217fbb782"
      },
      "outputs": [],
      "source": [
        "# Query 25 -  Two or more columns can be used for sorting purposes. To sort the employee names\n",
        "# and departments first in descending value of Department and then within Department by\n",
        "# ascending value of LastName, you specify:\n",
        "query = \"\"\"\n",
        "/* *** SQL-QUERY-CH03-25 *** */\n",
        "SELECT FirstName, LastName, Phone, Department\n",
        "FROM EMPLOYEE\n",
        "ORDER BY Department DESC, LastName ASC;\n",
        "\"\"\"\n",
        "SQLite3_Practice(database_file, query)"
      ]
    },
    {
      "cell_type": "markdown",
      "metadata": {
        "id": "OGi7xG9n8UZr"
      },
      "source": [
        "### ///***SQL Built-in Functions and Calculations***\n",
        "\n",
        "SQL allows you to calculate values based on the data in the tables. You can use arithmetic formulas, and you can also use SQL built-in functions. SQL includes five built-in functions:\n",
        "`COUNT`, `SUM`, `AVG`, `MAX`, and `MIN`.\n",
        "\n",
        "- These functions operate on the results of a SELECT statement.   \n",
        "  - `COUNT` works regardless of column data type, but `SUM`, `AVG`, `MAX`, and `MIN` operate only on integer, numeric, and other numberoriented columns.\n",
        "  - `COUNT` and `SUM` sound similar but are different.\n",
        "    - `COUNT` counts the number of rows in the result, whereas `SUM` totals the set of values of a numeric column."
      ]
    },
    {
      "cell_type": "code",
      "execution_count": null,
      "metadata": {
        "colab": {
          "base_uri": "https://localhost:8080/"
        },
        "id": "CXBszvuk7pj7",
        "outputId": "8418c81a-69fe-4375-f2a8-b4c7c3e7460d"
      },
      "outputs": [],
      "source": [
        "# Query 26 -  The following SQL statement counts the number of rows in\n",
        "# the PROJECT table:\n",
        "query = \"\"\"\n",
        "/* *** SQL-QUERY-CH03-26 *** */\n",
        "SELECT COUNT(*)\n",
        "FROM PROJECT;\n",
        "\"\"\"\n",
        "SQLite3_Practice(database_file, query)"
      ]
    },
    {
      "cell_type": "code",
      "execution_count": null,
      "metadata": {
        "colab": {
          "base_uri": "https://localhost:8080/"
        },
        "id": "JX59Xl0p7paG",
        "outputId": "110d06f5-2bbc-44d3-ee7d-d75dccdae934"
      },
      "outputs": [],
      "source": [
        "# Query 27 -  You can assign a column name to the result by using the AS keyword:\n",
        "query = \"\"\"\n",
        "/* *** SQL-QUERY-CH03-27 *** */\n",
        "SELECT COUNT(*) AS NumberOfProjects\n",
        "FROM PROJECT;\n",
        "\"\"\"\n",
        "SQLite3_Practice(database_file, query)"
      ]
    },
    {
      "cell_type": "code",
      "execution_count": null,
      "metadata": {
        "colab": {
          "base_uri": "https://localhost:8080/"
        },
        "id": "HZ0JaS379Y3Y",
        "outputId": "dca6e0d6-aa93-4dda-d928-7d39c88ee58d"
      },
      "outputs": [],
      "source": [
        "# Query 28 & 29 - Consider the following two SELECT statements:\n",
        "query = \"\"\"\n",
        "/* *** SQL-QUERY-CH03-28 *** */\n",
        "SELECT COUNT(Department) AS NumberOfDepartments\n",
        "FROM PROJECT;\n",
        "\"\"\"\n",
        "SQLite3_Practice(database_file, query)\n",
        "\n",
        "# and:\n",
        "\n",
        "query = \"\"\"\n",
        "/* *** SQL-QUERY-CH03-29 *** */\n",
        "SELECT COUNT(DISTINCT Department) AS NumberOfDepartments\n",
        "FROM PROJECT;\n",
        "\"\"\"\n",
        "SQLite3_Practice(database_file, query)\n",
        "\n",
        "# The difference in answers occurs because duplicate rows were eliminated in the count of\n",
        "# the departments in the second SELECT."
      ]
    },
    {
      "cell_type": "code",
      "execution_count": null,
      "metadata": {
        "colab": {
          "base_uri": "https://localhost:8080/"
        },
        "id": "F_7R8pdB9Yna",
        "outputId": "c959d0c3-2509-4ca5-eb86-25bda03e6351"
      },
      "outputs": [],
      "source": [
        "# Query 30 -  The following is another example of built-in functions:\n",
        "query = \"\"\"\n",
        "/* *** SQL-QUERY-CH03-30 *** */\n",
        "SELECT MIN(MaxHours) AS MinimumMaxHours,\n",
        "MAX(MaxHours) AS MaximumMaxHours,\n",
        "SUM(MaxHours) AS TotalMaxHours\n",
        "FROM PROJECT\n",
        "WHERE ProjectID <= 1200;\n",
        "\"\"\"\n",
        "SQLite3_Practice(database_file, query)"
      ]
    },
    {
      "cell_type": "markdown",
      "metadata": {
        "id": "RHmFg9vR_CMZ"
      },
      "source": [
        "---\n",
        "\n",
        "Standard mathematical calculations can also be done in SQL.\n",
        "- For example, suppose that all employees at Wedgewood Pacific Corporation are paid $18.50 per hour. Given that each project has a MaxHours value, you might want to calculate a maximum project cost value for each project that is equal to MaxHours multiplied by the hour wage rate.\n",
        "- You can calculate the needed numbers by using the following query:"
      ]
    },
    {
      "cell_type": "code",
      "execution_count": null,
      "metadata": {
        "colab": {
          "base_uri": "https://localhost:8080/"
        },
        "id": "0oYkUPIa9YXZ",
        "outputId": "4dcc920b-26c7-4116-bfe4-77519f230bd7"
      },
      "outputs": [],
      "source": [
        "# Query 31\n",
        "query = \"\"\"\n",
        "/* *** SQL-QUERY-CH03-31 *** */\n",
        "SELECT ProjectID, ProjectName, MaxHours,\n",
        "(18.50 * MaxHours) AS MaxProjectCost\n",
        "FROM PROJECT;\n",
        "\"\"\"\n",
        "SQLite3_Practice(database_file, query)"
      ]
    },
    {
      "cell_type": "markdown",
      "metadata": {
        "id": "cX4vGxC-_j7s"
      },
      "source": [
        "### ///***Built-in Functions and Grouping***\n",
        "In SQL, you can use the GROUP BY clause to group rows by common values.\n",
        "- This increases the utility of built-in functions because you can apply them to groups of rows.\n",
        "  - For example, the following statement counts the number of employees in each department:"
      ]
    },
    {
      "cell_type": "code",
      "execution_count": null,
      "metadata": {
        "colab": {
          "base_uri": "https://localhost:8080/"
        },
        "id": "sjGZ8oqw9X7R",
        "outputId": "3837e5f8-b299-4a07-e76c-6bd353423061"
      },
      "outputs": [],
      "source": [
        "# Query 34\n",
        "query = \"\"\"\n",
        "/* *** SQL-QUERY-CH03-34 *** */\n",
        "SELECT Department, Count(*) AS NumberOfEmployees\n",
        "FROM EMPLOYEE\n",
        "GROUP BY Department;\n",
        "\"\"\"\n",
        "SQLite3_Practice(database_file, query)"
      ]
    },
    {
      "cell_type": "markdown",
      "metadata": {
        "id": "XedTYRO5AHU4"
      },
      "source": [
        "---\n",
        "We can further restrict the results by using the HAVING clause to apply conditions to the groups that are formed.\n",
        "- For example, if you want to consider only groups with more than two members, you could specify:"
      ]
    },
    {
      "cell_type": "code",
      "execution_count": null,
      "metadata": {
        "colab": {
          "base_uri": "https://localhost:8080/"
        },
        "id": "o573mrQyAOQ1",
        "outputId": "6e8444cf-88cd-4a74-cff1-206d22f26bc6"
      },
      "outputs": [],
      "source": [
        "# Query 35\n",
        "query = \"\"\"\n",
        "/* *** SQL-QUERY-CH03-35 *** */\n",
        "SELECT Department, Count(*) AS NumberOfEmployees\n",
        "FROM EMPLOYEE\n",
        "GROUP BY Department\n",
        "HAVING COUNT(*) > 1;\n",
        "\"\"\"\n",
        "SQLite3_Practice(database_file, query)"
      ]
    },
    {
      "cell_type": "markdown",
      "metadata": {
        "id": "kSk1uqbnAsRj"
      },
      "source": [
        "---\n",
        "It is possible to add `WHERE` clauses when using GROUP BY. However, an ambiguity results when this is done.\n",
        "- If the WHERE condition is applied before the groups are formed, we obtain one result.\n",
        "  - If, however, the `WHERE` condition is applied after the groups are formed, we get a different result.\n",
        "    - To resolve this ambiguity, the SQL standard specifies that\n",
        "when `WHERE` and `GROUP` BY occur together, the `WHERE` condition will be applied first.\n",
        "\n",
        "For example, consider the following query:"
      ]
    },
    {
      "cell_type": "code",
      "execution_count": null,
      "metadata": {
        "colab": {
          "base_uri": "https://localhost:8080/"
        },
        "id": "BYOyT-2cBDYH",
        "outputId": "5ac43dce-bd90-49a8-ccbc-10b4e7e60820"
      },
      "outputs": [],
      "source": [
        "# Query 36A\n",
        "query = \"\"\"\n",
        "/* *** SQL-QUERY-CH03-36 *** */\n",
        "SELECT Department, Count(*) AS NumberOfEmployees\n",
        "FROM EMPLOYEE\n",
        "WHERE EmployeeNumber <= 6\n",
        "GROUP BY Department\n",
        "HAVING COUNT(*) > 1;\n",
        "\"\"\"\n",
        "SQLite3_Practice(database_file, query)"
      ]
    },
    {
      "cell_type": "code",
      "execution_count": null,
      "metadata": {
        "colab": {
          "base_uri": "https://localhost:8080/"
        },
        "id": "BZ00QBEtBP0h",
        "outputId": "78ff0822-1059-4519-ef63-4d6a36e65c89"
      },
      "outputs": [],
      "source": [
        "# Query 36B (`HAVING COUNT(*) > 1` removed to show more)\n",
        "query = \"\"\"\n",
        "/* *** SQL-QUERY-CH03-36 *** */\n",
        "SELECT Department, Count(*) AS NumberOfEmployees\n",
        "FROM EMPLOYEE\n",
        "WHERE EmployeeNumber <= 6\n",
        "GROUP BY Department;\n",
        "\"\"\"\n",
        "SQLite3_Practice(database_file, query)"
      ]
    },
    {
      "cell_type": "markdown",
      "metadata": {
        "id": "qqVdx6JxtdCO"
      },
      "source": [
        "## -S06 Continued-"
      ]
    },
    {
      "cell_type": "markdown",
      "metadata": {
        "id": "uX_WUVNgoqqv"
      },
      "source": [
        "###///***Querying Multiple Tables with Subqueries***\n",
        "\n",
        "The queries considered so far have involved data from a single table. However, at times, more than one table must be processed to obtain the desired information.\n",
        "- For example, suppose we want to know the names of all employees who have worked more than 40 hours on any single assignment.\n",
        "  - The names of employees are stored in the EMPLOYEE table, but the hours they have worked are stored in the ASSIGNMENT table."
      ]
    },
    {
      "cell_type": "code",
      "execution_count": null,
      "metadata": {
        "colab": {
          "base_uri": "https://localhost:8080/"
        },
        "id": "mUs7GUKAoWuc",
        "outputId": "fb98a098-3b62-4fdf-a609-3bf29fe43e9d"
      },
      "outputs": [],
      "source": [
        "# Query 37\n",
        "# If we knew that employees with EmployeeNumber 8 and 10 have worked more than\n",
        "# 50 hours on an assignment (which is true), we could obtain their names with\n",
        "# the following expression:\n",
        "\n",
        "query = \"\"\"\n",
        "/* *** SQL-QUERY-CH03-37 *** */\n",
        "SELECT FirstName, LastName\n",
        "FROM EMPLOYEE\n",
        "WHERE EmployeeNumber IN (8, 10);\n",
        "\"\"\"\n",
        "SQLite3_Practice(database_file, query)"
      ]
    },
    {
      "cell_type": "code",
      "execution_count": null,
      "metadata": {
        "colab": {
          "base_uri": "https://localhost:8080/"
        },
        "id": "cm0gHesHrAvU",
        "outputId": "03e73589-60fa-43ee-9729-56052ab3e651"
      },
      "outputs": [],
      "source": [
        "# Query 38\n",
        "# But, according to the problem description, we are not given the employee numbers.\n",
        "# We can, however, obtain the appropriate employee numbers with the following query:\n",
        "# But, according to the problem description, we are not given the employee numbers.\n",
        "# We can, however, obtain the appropriate employee numbers with the following query:\n",
        "\n",
        "query = \"\"\"\n",
        "/* *** SQL-QUERY-CH03-38 *** */\n",
        "SELECT DISTINCT EmployeeNumber\n",
        "FROM ASSIGNMENT\n",
        "WHERE HoursWorked > 50;\n",
        "\"\"\"\n",
        "SQLite3_Practice(database_file, query)"
      ]
    },
    {
      "cell_type": "code",
      "execution_count": null,
      "metadata": {
        "colab": {
          "base_uri": "https://localhost:8080/"
        },
        "id": "PaaRUTSItDWh",
        "outputId": "70d141ec-1ab3-40b0-86f6-6c5aba44e06a"
      },
      "outputs": [],
      "source": [
        "# Query 39\n",
        "# Now, we can combine these two SQL statements by using a subquery, as follows:\n",
        "\n",
        "query = \"\"\"\n",
        "/* *** SQL-QUERY-CH03-39 *** */\n",
        "SELECT FirstName, LastName\n",
        "FROM EMPLOYEE\n",
        "WHERE EmployeeNumber IN\n",
        "(SELECT DISTINCT EmployeeNumber\n",
        "FROM ASSIGNMENT\n",
        "WHERE HoursWorked > 50);\n",
        "\"\"\"\n",
        "SQLite3_Practice(database_file, query)"
      ]
    },
    {
      "cell_type": "markdown",
      "metadata": {
        "id": "4Sv9CorYuF0_"
      },
      "source": [
        "Subqueries can be extended to include three, four, or even more levels. Suppose, for example, that you need to know the names of employees who have worked more than 40 hours on an assignment sponsored by the accounting department."
      ]
    },
    {
      "cell_type": "code",
      "execution_count": null,
      "metadata": {
        "colab": {
          "base_uri": "https://localhost:8080/"
        },
        "id": "20erCfZDtbwE",
        "outputId": "c8b69364-8b10-49ea-eda1-f07b4515365f"
      },
      "outputs": [],
      "source": [
        "# Query 40\n",
        "# You can obtain the project IDs of projects sponsored by accounting with:\n",
        "\n",
        "query = \"\"\"\n",
        "/* *** SQL-QUERY-CH03-40 *** */\n",
        "SELECT ProjectID\n",
        "FROM PROJECT\n",
        "WHERE Department = 'Accounting';\n",
        "\"\"\"\n",
        "SQLite3_Practice(database_file, query)"
      ]
    },
    {
      "cell_type": "code",
      "execution_count": null,
      "metadata": {
        "colab": {
          "base_uri": "https://localhost:8080/"
        },
        "id": "DNC6EptsuZE1",
        "outputId": "28153e45-f20d-4bdc-dedc-afcdc5f0b393"
      },
      "outputs": [],
      "source": [
        "# Query 41\n",
        "# You can obtain the employee numbers of employees working more than 40 hours on\n",
        "# those projects with:\n",
        "\n",
        "query = \"\"\"\n",
        "/* *** SQL-QUERY-CH03-41 *** */\n",
        "SELECT DISTINCT EmployeeNumber\n",
        "FROM ASSIGNMENT\n",
        "WHERE HoursWorked > 40\n",
        "AND ProjectID IN\n",
        "(SELECT ProjectID\n",
        "FROM PROJECT\n",
        "WHERE Department = 'Accounting');\n",
        "\"\"\"\n",
        "SQLite3_Practice(database_file, query)"
      ]
    },
    {
      "cell_type": "code",
      "execution_count": null,
      "metadata": {
        "colab": {
          "base_uri": "https://localhost:8080/"
        },
        "id": "mcYNfAnZuY36",
        "outputId": "9cbd2cc7-0491-4b99-cab0-73bf2095e187"
      },
      "outputs": [],
      "source": [
        "# Query 42\n",
        "# Finally, you can obtain the names of the employees in the preceding\n",
        "# SQL statement with:\n",
        "\n",
        "query = \"\"\"\n",
        "/* *** SQL-QUERY-CH03-42 *** */\n",
        "SELECT FirstName, LastName\n",
        "FROM EMPLOYEE\n",
        "WHERE EmployeeNumber IN\n",
        "(SELECT DISTINCT EmployeeNumber\n",
        "FROM ASSIGNMENT\n",
        "WHERE HoursWorked > 40\n",
        "AND ProjectID IN\n",
        "(SELECT ProjectID\n",
        "FROM PROJECT\n",
        "WHERE Department = 'Accounting'));\n",
        "\"\"\"\n",
        "SQLite3_Practice(database_file, query)"
      ]
    },
    {
      "cell_type": "markdown",
      "metadata": {
        "id": "Ab4sKOs46ciM"
      },
      "source": [
        "###///***Querying Multiple Tables with Joins***\n",
        "---\n",
        "Subqueries are effective for processing multiple tables, as long as the results come from a single table. If, however, we need to display data from two or more tables, subqueries do not work. We need to use a join operation instead.\n",
        "\n",
        "The basic idea of a join is to form a new relation by connecting the contents of two or more other relations. Consider the following example:"
      ]
    },
    {
      "cell_type": "code",
      "execution_count": null,
      "metadata": {
        "colab": {
          "base_uri": "https://localhost:8080/"
        },
        "id": "abWqvVNL2XFN",
        "outputId": "9ff786e2-1e98-4225-cc20-a6b053a4e9be"
      },
      "outputs": [],
      "source": [
        "# Query 43\n",
        "\n",
        "query = \"\"\"\n",
        "/* *** SQL-QUERY-CH03-43 *** */\n",
        "SELECT FirstName, LastName, HoursWorked\n",
        "FROM EMPLOYEE, ASSIGNMENT\n",
        "WHERE EMPLOYEE.EmployeeNumber =\n",
        "ASSIGNMENT.EmployeeNumber;\n",
        "\"\"\"\n",
        "SQLite3_Practice(database_file, query)"
      ]
    },
    {
      "cell_type": "code",
      "execution_count": null,
      "metadata": {
        "colab": {
          "base_uri": "https://localhost:8080/"
        },
        "id": "mR9ycWpk7Fnq",
        "outputId": "10fc39fc-cd44-4199-a031-e0649455d185"
      },
      "outputs": [],
      "source": [
        "# Query 44\n",
        "\n",
        "query = \"\"\"\n",
        "/* *** SQL-QUERY-CH03-44 *** */\n",
        "SELECT FirstName, LastName, HoursWorked\n",
        "FROM EMPLOYEE, ASSIGNMENT\n",
        "WHERE EMPLOYEE.EmployeeNumber =\n",
        "ASSIGNMENT.EmployeeNumber\n",
        "ORDER BY EMPLOYEE.EmployeeNumber, ProjectID;\n",
        "\"\"\"\n",
        "SQLite3_Practice(database_file, query)"
      ]
    },
    {
      "cell_type": "code",
      "execution_count": null,
      "metadata": {
        "colab": {
          "base_uri": "https://localhost:8080/"
        },
        "id": "EeqCupvB8cpP",
        "outputId": "f7d70d39-c0ab-4b52-f0f1-e1db76868def"
      },
      "outputs": [],
      "source": [
        "# Query 45\n",
        "\n",
        "query = \"\"\"\n",
        "/* *** SQL-QUERY-CH03-45 *** */\n",
        "SELECT FirstName, LastName,\n",
        "SUM(HoursWorked) AS TotalHoursWorked\n",
        "FROM EMPLOYEE AS E, ASSIGNMENT AS A\n",
        "WHERE E.EmployeeNumber = A.EmployeeNumber\n",
        "GROUP BY LastName, FirstName;\n",
        "\"\"\"\n",
        "SQLite3_Practice(database_file, query)"
      ]
    },
    {
      "cell_type": "code",
      "execution_count": null,
      "metadata": {
        "colab": {
          "base_uri": "https://localhost:8080/"
        },
        "id": "3fZ_sRQ08uY9",
        "outputId": "b9acb506-489f-4554-961f-6e5862ec62e9"
      },
      "outputs": [],
      "source": [
        "# Query 46\n",
        "\n",
        "query = \"\"\"\n",
        "/* *** SQL-QUERY-CH03-46 *** */\n",
        "SELECT FirstName, LastName, HoursWorked\n",
        "FROM EMPLOYEE AS E, ASSIGNMENT AS A\n",
        "WHERE E.EmployeeNumber = A.EmployeeNumber\n",
        "AND HoursWorked > 50;\n",
        "\"\"\"\n",
        "SQLite3_Practice(database_file, query)"
      ]
    },
    {
      "cell_type": "code",
      "execution_count": null,
      "metadata": {
        "colab": {
          "base_uri": "https://localhost:8080/"
        },
        "id": "Ew9pM6PP6IBn",
        "outputId": "2e159d0d-cebb-4dd3-d2bb-a25060b498d1"
      },
      "outputs": [],
      "source": [
        "# Query 47\n",
        "\n",
        "query = \"\"\"\n",
        "/* *** SQL-QUERY-CH03-47 *** */\n",
        "SELECT ProjectName, FirstName, LastName, HoursWorked\n",
        "FROM EMPLOYEE AS E, PROJECT AS P, ASSIGNMENT AS A\n",
        "WHERE E.EmployeeNumber = A.EmployeeNumber\n",
        "AND P.ProjectID = A.ProjectID\n",
        "ORDER BY P.ProjectID, A.EmployeeNumber;\n",
        "\"\"\"\n",
        "SQLite3_Practice(database_file, query)"
      ]
    },
    {
      "cell_type": "markdown",
      "metadata": {
        "id": "c94C9CHt-r18"
      },
      "source": [
        "###///***The SQL JOIN . . . ON Syntax***\n",
        "An alternative join syntax is the JOIN . . . ON syntax. Consider our query example SQLQUERY-CH03-43 as modified with an ORDER BY clause to become SQL-QUERY-CH03-44."
      ]
    },
    {
      "cell_type": "code",
      "execution_count": null,
      "metadata": {
        "colab": {
          "base_uri": "https://localhost:8080/"
        },
        "id": "Fdm81YFZ-gBw",
        "outputId": "87679a0f-d53c-4410-fb9a-8f818d4a99ac"
      },
      "outputs": [],
      "source": [
        "# Query 44-Recall\n",
        "# This query uses a join in the WHERE clause:\n",
        "\n",
        "query = \"\"\"\n",
        "/* *** SQL-QUERY-CH03-44 *** */\n",
        "SELECT FirstName, LastName, HoursWorked\n",
        "FROM EMPLOYEE, ASSIGNMENT\n",
        "WHERE EMPLOYEE.EmployeeNumber =\n",
        "ASSIGNMENT.EmployeeNumber\n",
        "ORDER BY EMPLOYEE.EmployeeNumber, ProjectID;\n",
        "\"\"\"\n",
        "SQLite3_Practice(database_file, query)"
      ]
    },
    {
      "cell_type": "code",
      "execution_count": null,
      "metadata": {
        "colab": {
          "base_uri": "https://localhost:8080/"
        },
        "id": "ZD27sKQR-3vn",
        "outputId": "0846dc88-5f13-4d91-8f04-ac152fbdbcd2"
      },
      "outputs": [],
      "source": [
        "# Query 48\n",
        "# Using the JOIN . . . ON syntax, SQL-QUERY-CH03-44 would be modified as follows to\n",
        "# become SQL-QUERY-CH03-48:\n",
        "\n",
        "query = \"\"\"\n",
        "/* *** SQL-QUERY-CH03-48 *** */\n",
        "SELECT FirstName, LastName, HoursWorked\n",
        "FROM EMPLOYEE JOIN ASSIGNMENT\n",
        "ON EMPLOYEE.EmployeeNumber =\n",
        "ASSIGNMENT.EmployeeNumber\n",
        "ORDER BY EMPLOYEE.EmployeeNumber, ProjectID;\n",
        "\"\"\"\n",
        "SQLite3_Practice(database_file, query)"
      ]
    },
    {
      "cell_type": "code",
      "execution_count": null,
      "metadata": {
        "colab": {
          "base_uri": "https://localhost:8080/"
        },
        "id": "T-3Wp522_IBg",
        "outputId": "cb3b699a-bcc9-43d3-ece0-093e4943642b"
      },
      "outputs": [],
      "source": [
        "# Query 49\n",
        "# We can also use the JOIN . . . ON syntax for joins of more than two tables. Here is\n",
        "# the previous query to combine data for EMPLOYEE, PROJECT, and ASSIGNMENT\n",
        "# rewritten using the JOIN . . . ON style:\n",
        "\n",
        "query = \"\"\"\n",
        "/* *** SQL-QUERY-CH03-49 *** */\n",
        "SELECT ProjectName, FirstName, LastName, HoursWorked\n",
        "FROM EMPLOYEE AS E JOIN ASSIGNMENT AS A\n",
        "ON E.EmployeeNumber = A.EmployeeNumber\n",
        "JOIN PROJECT AS P\n",
        "ON A.ProjectID = P.ProjectID\n",
        "ORDER BY P.ProjectID, A.EmployeeNumber;\n",
        "\"\"\"\n",
        "SQLite3_Practice(database_file, query)"
      ]
    },
    {
      "cell_type": "code",
      "execution_count": null,
      "metadata": {
        "id": "tLBIok15_rBH"
      },
      "outputs": [],
      "source": [
        "# Query 05 - Recalled/Edited\n",
        "# Let’s add a new project, the 2012 Q4 Tax Preparation project run by the\n",
        "# accounting department, to the PROJECT table as follows:\n",
        "\n",
        "\n",
        "# Establishing a connection to the SQLite database\n",
        "conn = sqlite3.connect('marketing_db.sqlite')\n",
        "cursor = conn.cursor()\n",
        "\n",
        "\"\"\"\n",
        "/* *** SQL-INSERT-CH03-05 *** */\n",
        "INSERT INTO PROJECT\n",
        "(ProjectName, Department, MaxHours, StartDate)\n",
        "VALUES('2012 Q4 Tax Preparation', 'Accounting',\n",
        "175.00, '10-DEC-12');\n",
        "\"\"\"\n",
        "\n",
        "##\n",
        "# Insert data into PROJECT table\n",
        "project_data = [\n",
        "  (1500,'2012 Q4 Tax Preparation', 'Accounting', 175.00, '10-DEC-12', None)\n",
        "]\n",
        "for proj in project_data:\n",
        "  cursor.execute('INSERT INTO PROJECT (ProjectID, ProjectName, Department, MaxHours, StartDate, EndDate) VALUES (?, ?, ?, ?, ?, ?)', proj)\n",
        "\n",
        "\n",
        "##\n",
        "# Commit changes and close the connection\n",
        "conn.commit()\n",
        "conn.close()"
      ]
    },
    {
      "cell_type": "code",
      "execution_count": null,
      "metadata": {
        "colab": {
          "base_uri": "https://localhost:8080/"
        },
        "id": "bhF8oZXf-MCp",
        "outputId": "873138b4-74df-43d0-8d1a-6e10fea00db8"
      },
      "outputs": [],
      "source": [
        "# Query 50\n",
        "# To see the updated PROJECT table, we use the query:\n",
        "\n",
        "query = \"\"\"\n",
        "/* *** SQL-QUERY-CH03-50 *** */\n",
        "SELECT * FROM PROJECT;\n",
        "\"\"\"\n",
        "SQLite3_Practice(database_file, query)"
      ]
    },
    {
      "cell_type": "code",
      "execution_count": null,
      "metadata": {
        "colab": {
          "base_uri": "https://localhost:8080/"
        },
        "id": "_UiW-txp-khQ",
        "outputId": "48ce7e15-0753-43b1-bdf2-b31a85277a6b"
      },
      "outputs": [],
      "source": [
        "# Query 51\n",
        "# Now, with the new project added to PROJECT, we’ll rerun the previous query on\n",
        "# EMPLOYEE, ASSIGNMENT, and PROJECT:\n",
        "\n",
        "query = \"\"\"\n",
        "/* *** SQL-QUERY-CH03-51 *** */\n",
        "SELECT ProjectName, FirstName, LastName, HoursWorked\n",
        "FROM EMPLOYEE AS E JOIN ASSIGNMENT AS A\n",
        "ON E.EmployeeNumber = A.EmployeeNumber\n",
        "JOIN PROJECT AS P\n",
        "ON A.ProjectID = P.ProjectID\n",
        "ORDER BY P.ProjectID, A.EmployeeNumber;\n",
        "\"\"\"\n",
        "SQLite3_Practice(database_file, query)"
      ]
    },
    {
      "cell_type": "markdown",
      "metadata": {
        "id": "xEMxC4H8_YfF"
      },
      "source": [
        "The results shown here are correct, but a surprising result occurs.\n",
        "- What happened to the new 2012 Q4 Tax Preparation project?\n",
        "  - The answer is that it does not appear in the join results because its ProjectID value of 1500 had no match in the ASSIGNMENT table.\n",
        "\n",
        "Nothing is wrong with this result; you just need to be aware that unmatched rows do not appear in the result of a join."
      ]
    },
    {
      "cell_type": "markdown",
      "metadata": {
        "id": "ZPuERsty_o4U"
      },
      "source": [
        "###///***Inner Joins and Outer Joins***\n",
        "---\n",
        "\n",
        "The join operation discussed in the previous sections is sometimes referred to as an **equijoin or inner join**.\n",
        "\n",
        "<br>    \n",
        "\n",
        "- An **inner join** only displays data from the rows that match based on the join conditions, and as you saw in the last query in the previous section that data can be lost (or at least appear to be lost) when you perform an inner join.\n",
        "  - In particular, if a row has a value that does not match the WHERE clause condition, that row will not be included in the join result.\n",
        "\n",
        "    - The 2012 Q4 Tax Preparation project did not appear in the previous join because no row in ASSIGNMENT matched its ProjectID value.\n",
        "      - **This kind of loss is not always desirable**, so ***`a special type of join, called an outer join, was created to avoid it`***.\n",
        "\n",
        "<br>    \n",
        "\n",
        "- **Outer joins** are not part of the SQL-92 specification, but most DBMS products today support them.\n",
        "  - The specific syntax for the outer join, however, varies by DBMS product."
      ]
    },
    {
      "cell_type": "code",
      "execution_count": null,
      "metadata": {
        "colab": {
          "base_uri": "https://localhost:8080/"
        },
        "id": "Ej3YE9Bp-kMz",
        "outputId": "86a310e6-7b9f-43f4-bcac-04ec904e0e88"
      },
      "outputs": [],
      "source": [
        "# Query 52\n",
        "# Consider the following example and notice the use of the\n",
        "# JOIN . . . ON syntax—the LEFT keyword is simply added to the SQL query:\n",
        "\n",
        "query = \"\"\"\n",
        "/* *** SQL-QUERY-CH03-52 *** */\n",
        "SELECT ProjectName, EmployeeNumber, HoursWorked\n",
        "FROM PROJECT LEFT JOIN ASSIGNMENT\n",
        "ON PROJECT.ProjectID = ASSIGNMENT.ProjectID;\n",
        "\"\"\"\n",
        "SQLite3_Practice(database_file, query)"
      ]
    },
    {
      "cell_type": "markdown",
      "metadata": {
        "id": "IDaxis7pB-4l"
      },
      "source": [
        "Notice that the last row of this table appends a null value to the 2012 Q4 Tax Preparation project.\n",
        "\n",
        "---\n",
        "\n",
        "<br>\n",
        "\n",
        "**Right outer joins** operate similarly, except that the `RIGHT` keyword is used, and rows in the table on the right-hand side of the `FROM` clause are included.\n",
        "- For example, you could join all three tables together with the following right outer join:"
      ]
    },
    {
      "cell_type": "code",
      "execution_count": null,
      "metadata": {
        "colab": {
          "base_uri": "https://localhost:8080/"
        },
        "id": "4aZQbXuD-j-V",
        "outputId": "4b6b625d-df41-41c6-b01b-0aec720bf22a"
      },
      "outputs": [],
      "source": [
        "# Query 53\n",
        "# For example, you could join all three tables together with the following\n",
        "# right outer join:\n",
        "\n",
        "query = \"\"\"\n",
        "/* *** SQL-QUERY-CH03-53 *** */\n",
        "SELECT ProjectName, HoursWorked, FirstName, LastName\n",
        "FROM (PROJECT AS P JOIN ASSIGNMENT AS A\n",
        "ON P.ProjectID = A.ProjectID)\n",
        "RIGHT JOIN EMPLOYEE AS E\n",
        "ON A.EmployeeNumber = E.EmployeeNumber\n",
        "ORDER BY P.ProjectID, A.EmployeeNumber;\n",
        "\"\"\"\n",
        "SQLite3_Practice(database_file, query)"
      ]
    },
    {
      "cell_type": "code",
      "execution_count": null,
      "metadata": {
        "colab": {
          "base_uri": "https://localhost:8080/"
        },
        "id": "AsydTsciB9Oq",
        "outputId": "2970d7c0-9362-466d-990a-362b27b41478"
      },
      "outputs": [],
      "source": [
        "# Query 54\n",
        "# The current data in the EMPLOYEE table looks like this:\n",
        "\n",
        "query = \"\"\"\n",
        "/* *** SQL-QUERY-CH03-54 *** */\n",
        "SELECT * FROM EMPLOYEE;\n",
        "\"\"\"\n",
        "SQLite3_Practice(database_file, query)"
      ]
    },
    {
      "cell_type": "markdown",
      "metadata": {
        "id": "yzl7HsbVNcOO"
      },
      "source": [
        "##-> Part A - Individual SQL Participation"
      ]
    },
    {
      "cell_type": "code",
      "execution_count": null,
      "metadata": {
        "colab": {
          "base_uri": "https://localhost:8080/"
        },
        "id": "r9Z6G431MsqC",
        "outputId": "f15139b4-5810-4c4e-d75c-1f9061d989e9"
      },
      "outputs": [],
      "source": [
        "# Student 1\n",
        "# Hudson, Michelle\tYes\tList projects with more than 130 max hours.\n",
        "\n",
        "query = \"\"\"\n",
        "SELECT *\n",
        "FROM PROJECT\n",
        "WHERE MaxHours > 130;\n",
        "\"\"\"\n",
        "SQLite3_Practice(database_file, query)"
      ]
    },
    {
      "cell_type": "code",
      "execution_count": null,
      "metadata": {
        "colab": {
          "base_uri": "https://localhost:8080/"
        },
        "id": "3bJChZvgIJf4",
        "outputId": "2f8ce140-729b-47a1-e49f-581f1fc1200c"
      },
      "outputs": [],
      "source": [
        "# Student 2\n",
        "# 10\tLu, Yunyun\tYes\tDisplay the first name, last name, and department of employees,\n",
        "# sorted by department and then last name.\n",
        "\n",
        "query = \"\"\"\n",
        "SELECT FirstName, LastName, Department\n",
        "FROM EMPLOYEE\n",
        "ORDER BY Department, LastName;\n",
        "\"\"\"\n",
        "SQLite3_Practice(database_file, query)"
      ]
    },
    {
      "cell_type": "code",
      "execution_count": null,
      "metadata": {
        "colab": {
          "base_uri": "https://localhost:8080/"
        },
        "id": "tn6ds1ptg4Py",
        "outputId": "7e21d8db-6a88-4c6c-a1a3-c0fc05b62e90"
      },
      "outputs": [],
      "source": [
        "# Student 3\n",
        "# 13\tWang, Zhiyan\tNo\tIdentify projects where the total hours worked exceed\n",
        "# the maximum hours.\n",
        "\n",
        "query = \"\"\"\n",
        "SELECT P.ProjectID, P.ProjectName,\n",
        "SUM(A.HoursWorked) AS TotalHours\n",
        "FROM PROJECT P JOIN ASSIGNMENT A ON P.ProjectID = A.ProjectID\n",
        "GROUP BY P.ProjectID HAVING SUM(A.HoursWorked) > P.MaxHours;\n",
        "\"\"\"\n",
        "SQLite3_Practice(database_file, query)"
      ]
    },
    {
      "cell_type": "code",
      "execution_count": null,
      "metadata": {
        "colab": {
          "base_uri": "https://localhost:8080/"
        },
        "id": "VJFPWx5Fg4Fa",
        "outputId": "34dd4fee-8e70-414d-c576-2543588f3500"
      },
      "outputs": [],
      "source": [
        "# Student 4\n",
        "# 8\tKong, Jianhuan\tNo\tFind employees who have an email but no phone number listed.\n",
        "\n",
        "query = \"\"\"\n",
        "/* *** SQL-QUERY-CH03-54 *** */\n",
        "SELECT *\n",
        "FROM EMPLOYEE\n",
        "WHERE Email is NOT NULL AND Phone IS NULL;\n",
        "\"\"\"\n",
        "SQLite3_Practice(database_file, query)"
      ]
    },
    {
      "cell_type": "code",
      "execution_count": null,
      "metadata": {
        "colab": {
          "base_uri": "https://localhost:8080/"
        },
        "id": "1Czzae2fg3v9",
        "outputId": "5120b949-d687-4aba-eae8-0c8c16403433"
      },
      "outputs": [],
      "source": [
        "# Student 5\n",
        "# 4\tHoang, Darlene\tYes\tList employees and their department names\n",
        "\n",
        "query = \"\"\"\n",
        "SELECT E.FirstName, E.LastName, D.DepartmentName\n",
        "FROM EMPLOYEE E JOIN DEPARTMENT D ON E.Department = D.DepartmentName;\n",
        "\"\"\"\n",
        "SQLite3_Practice(database_file, query)"
      ]
    },
    {
      "cell_type": "code",
      "execution_count": null,
      "metadata": {
        "colab": {
          "base_uri": "https://localhost:8080/"
        },
        "id": "c_t_Plgmg3lk",
        "outputId": "171819d2-cc8b-41f0-a2f7-ca5358591b95"
      },
      "outputs": [],
      "source": [
        "# Student 6\n",
        "# 2\tGuo, Hilda\tNo\tFind all employees whose first name starts with 'Ma'.\n",
        "\n",
        "query = \"\"\"\n",
        "SELECT *\n",
        "FROM EMPLOYEE\n",
        "WHERE FirstName LIKE 'Ma%';\n",
        "\"\"\"\n",
        "SQLite3_Practice(database_file, query)"
      ]
    },
    {
      "cell_type": "code",
      "execution_count": null,
      "metadata": {
        "colab": {
          "base_uri": "https://localhost:8080/"
        },
        "id": "-9CWfl6Kg3h3",
        "outputId": "ad3abc6b-8c14-4818-f8e6-756d6c29f259"
      },
      "outputs": [],
      "source": [
        "# Student 6\n",
        "# 15\tXia, Naier\tYes\tList all employees who have not been assigned to any project.\n",
        "\n",
        "query = \"\"\"\n",
        "SELECT FirstName, LastName, EmployeeNumber\n",
        "FROM Employee\n",
        "WHERE EmployeeNumber NOT IN (\n",
        "    SELECT EmployeeNumber\n",
        "    FROM ASSIGNMENT);\n",
        "\"\"\"\n",
        "SQLite3_Practice(database_file, query)"
      ]
    },
    {
      "cell_type": "code",
      "execution_count": null,
      "metadata": {
        "colab": {
          "base_uri": "https://localhost:8080/"
        },
        "id": "gi9JwaFDg3BD",
        "outputId": "3103b6ca-806f-4590-cc55-2b5dc59daadc"
      },
      "outputs": [],
      "source": [
        "# Student 6\n",
        "# 5\tHu, Xinjun\tYes\tFind projects with no end date specified.\n",
        "\n",
        "query = \"\"\"\n",
        "SELECT *\n",
        "FROM PROJECT\n",
        "WHERE ENDDATE IS NULL;\n",
        "\"\"\"\n",
        "SQLite3_Practice(database_file, query)"
      ]
    },
    {
      "cell_type": "code",
      "execution_count": null,
      "metadata": {
        "colab": {
          "base_uri": "https://localhost:8080/"
        },
        "id": "zGSUTvUvg26j",
        "outputId": "6e482a72-e957-4646-dff7-57a915c64fa2"
      },
      "outputs": [],
      "source": [
        "# Student 6\n",
        "# 6\tHuang, Qinyi\tYes\tShow total hours worked on each project by employee.\n",
        "\n",
        "query = \"\"\"\n",
        "SELECT ProjectID, EmployeeNumber,\n",
        "SUM(HoursWorked) AS TotalHoursWorked\n",
        "FROM ASSIGNMENT\n",
        "GROUP BY ProjectID, EmployeeNumber;\n",
        "\"\"\"\n",
        "SQLite3_Practice(database_file, query)"
      ]
    },
    {
      "cell_type": "code",
      "execution_count": null,
      "metadata": {
        "colab": {
          "base_uri": "https://localhost:8080/"
        },
        "id": "Hvdp-6v3g2zg",
        "outputId": "f420e2d6-5c5b-41e3-b026-2cc9279f19a8"
      },
      "outputs": [],
      "source": [
        "# Student 6\n",
        "# 9\tLan, Yue\tYes\tList all departments and the number of employees in each.\n",
        "\n",
        "query = \"\"\"\n",
        "SELECT Department,  COUNT(*) AS NumberOfEmployees\n",
        "From Employee\n",
        "GROUP BY department\n",
        "ORDER BY NumberOfEmployees DESC;\n",
        "\"\"\"\n",
        "SQLite3_Practice(database_file, query)"
      ]
    },
    {
      "cell_type": "code",
      "execution_count": null,
      "metadata": {
        "colab": {
          "base_uri": "https://localhost:8080/"
        },
        "id": "t4bZoxyvg2tO",
        "outputId": "9f7ebcbb-dc94-4893-d0f4-b3192719cd9f"
      },
      "outputs": [],
      "source": [
        "# Student 6\n",
        "# 11\tPan, Qianyi\tNo\tList projects along with the names of assigned employees\n",
        "\n",
        "query = \"\"\"\n",
        "SELECT P.ProjectName, E.FirstName, E.LastName\n",
        "FROM PROJECT P\n",
        "JOIN ASSIGNMENT A ON P.ProjectID = A.ProjectID\n",
        "JOIN EMPLOYEE E ON A.EmployeeNumber = E.EmployeeNumber\n",
        "ORDER BY P.ProjectName, E.LastName, E.FirstName;\n",
        "\"\"\"\n",
        "SQLite3_Practice(database_file, query)"
      ]
    },
    {
      "cell_type": "code",
      "execution_count": null,
      "metadata": {
        "colab": {
          "base_uri": "https://localhost:8080/"
        },
        "id": "kGuJEWG0g2nQ",
        "outputId": "14a780e9-a30e-40cb-c363-2fe1c5d414ae"
      },
      "outputs": [],
      "source": [
        "# Student 6\n",
        "# 20\tZhou, Yanxin\tNo\tList departments and their employees, including those with no employees.\n",
        "\n",
        "query = \"\"\"\n",
        "SELECT D.DepartmentName, E.FirstName, E.LastName\n",
        "FROM DEPARTMENT D LEFT JOIN EMPLOYEE E ON D.DepartmentName = E.Department\n",
        "ORDER BY D.DepartmentName, E.LastName;\n",
        "\"\"\"\n",
        "SQLite3_Practice(database_file, query)"
      ]
    },
    {
      "cell_type": "code",
      "execution_count": null,
      "metadata": {
        "colab": {
          "base_uri": "https://localhost:8080/"
        },
        "id": "SNHOOO8Sg2e9",
        "outputId": "08d45f7e-f6ea-40e0-9029-77e553cf89d7"
      },
      "outputs": [],
      "source": [
        "# 19\tZhou, Sylvia\tNo\tShow the start and end dates of projects in 'YYYY-MM-DD' format.\n",
        "\n",
        "query = \"\"\"\n",
        "SELECT ProjectID,\n",
        "strftime('%Y-%m-%d', StartDate) AS StartDateFormatted,\n",
        "strftime('%Y-%m-%d', EndDate) AS EndDateFormatted\n",
        "FROM PROJECT;\n",
        "\"\"\"\n",
        "SQLite3_Practice(database_file, query)"
      ]
    },
    {
      "cell_type": "code",
      "execution_count": null,
      "metadata": {
        "colab": {
          "base_uri": "https://localhost:8080/"
        },
        "id": "ZM-um4B6g2X5",
        "outputId": "d36c6c0b-ceeb-49b2-a482-bd7b426f075b"
      },
      "outputs": [],
      "source": [
        "# 19\t14\tWu, Zitao\tYes\tList the departments that have no projects associated with them.\n",
        "query = \"\"\"\n",
        "SELECT D.DepartmentName\n",
        "FROM DEPARTMENT D\n",
        "LEFT JOIN PROJECT P ON D.DepartmentName = P.Department\n",
        "WHERE P.ProjectID IS NULL;\n",
        "\"\"\"\n",
        "SQLite3_Practice(database_file, query)"
      ]
    },
    {
      "cell_type": "code",
      "execution_count": null,
      "metadata": {
        "colab": {
          "base_uri": "https://localhost:8080/"
        },
        "id": "Jo-MKg2Zg2QD",
        "outputId": "04f2141f-e190-4377-f3a1-762a514a50b0"
      },
      "outputs": [],
      "source": [
        "# 12\tWang, Yukun\tYes\tShow the average hours worked on assignments per employee.\n",
        "query = \"\"\"\n",
        "SELECT E.EmployeeNumber, AVG(A.HoursWorked) AS average_working_hours, E.FirstName, E.LastName\n",
        "FROM ASSIGNMENT AS A\n",
        "JOIN EMPLOYEE AS E ON A.EmployeeNumber = E.EmployeeNumber\n",
        "GROUP BY E.EmployeeNumber, E.FirstName, E.LastName\n",
        "ORDER BY E.LastName, E.FirstName;\n",
        "\"\"\"\n",
        "SQLite3_Practice(database_file, query)"
      ]
    },
    {
      "cell_type": "code",
      "execution_count": null,
      "metadata": {
        "colab": {
          "base_uri": "https://localhost:8080/"
        },
        "id": "Jm5Lnn60g2Gf",
        "outputId": "d7d0e7e5-4bc4-45e3-8e63-ecb2c0601935"
      },
      "outputs": [],
      "source": [
        "# 16\tYang, Kuoyu\tYes\tDisplay departments along with the total hours worked for\n",
        "# all projects in each department\n",
        "query = \"\"\"\n",
        "SELECT P.Department,\n",
        "SUM(A.HoursWorked) AS TotalHours\n",
        "FROM PROJECT P\n",
        "JOIN ASSIGNMENT A ON P.ProjectID = A.ProjectID\n",
        "GROUP BY P.Department;\n",
        "\"\"\"\n",
        "SQLite3_Practice(database_file, query)"
      ]
    },
    {
      "cell_type": "code",
      "execution_count": null,
      "metadata": {
        "colab": {
          "base_uri": "https://localhost:8080/"
        },
        "id": "ZlYwLBF7g1tq",
        "outputId": "7dd5cd06-bb43-4684-d023-f2a5a7da2e7e"
      },
      "outputs": [],
      "source": [
        "# 17\tZeng, Siyu\tYes\tFind the project with the highest number of hours worked.\n",
        "query = \"\"\"\n",
        "SELECT ProjectID,\n",
        "SUM(HoursWorked) AS TotalHoursWorked FROM ASSIGNMENT\n",
        "GROUP BY ProjectID\n",
        "ORDER BY TotalHoursWorked DESC\n",
        "LIMIT 1;\n",
        "\"\"\"\n",
        "SQLite3_Practice(database_file, query)"
      ]
    },
    {
      "cell_type": "code",
      "execution_count": null,
      "metadata": {
        "colab": {
          "base_uri": "https://localhost:8080/"
        },
        "id": "h4rFPgYkg1iL",
        "outputId": "e3521f5a-6512-429d-8f6c-0b03e83cf6b9"
      },
      "outputs": [],
      "source": [
        "query = \"\"\"\n",
        "SELECT FirstName, LastName\n",
        "FROM EMPLOYEE AS E\n",
        "JOIN ASSIGNMENT A ON E.EmployeeNumber = A.EmployeeNumber\n",
        "JOIN PROJECT P ON A.ProjectID = P.ProjectID\n",
        "WHERE P.Department = 'Accounting' AND A.HoursWorked > 40;\n",
        "\"\"\"\n",
        "SQLite3_Practice(database_file, query)"
      ]
    },
    {
      "cell_type": "markdown",
      "metadata": {},
      "source": [
        "# SQL and LLM Integration (APplication of Generative AI in DAtabase Management)"
      ]
    },
    {
      "cell_type": "code",
      "execution_count": 1,
      "metadata": {
        "id": "95MD_inc7ydo"
      },
      "outputs": [
        {
          "name": "stdout",
          "output_type": "stream",
          "text": [
            "[('Administration', 'BC-100-10', 'BLDG01-300', '360-285-8100'), ('Legal', 'BC-200-10', 'BLDG01-200', '360-285-8200'), ('Accounting', 'BC-300-10', 'BLDG01-100', '360-285-8300'), ('Finance', 'BC-400-10', 'BLDG01-140', '360-285-8400'), ('Human Resources', 'BC-500-10', 'BLDG01-180', '360-285-8500'), ('Production', 'BC-600-10', 'BLDG02-100', '360-287-8600'), ('Marketing', 'BC-700-10', 'BLDG02-200', '360-287-8700'), ('InfoSystems', 'BC-800-10', 'BLDG02-270', '360-287-8800')]\n",
            "[(1, 'Mary', 'Jacobs', 'Administration', '360-285-8110', 'Mary.Jacobs@wpc.com'), (2, 'Rosalie', 'Jackson', 'Administration', '360-285-8120', 'Rosalie.Jackson@wpc.com'), (3, 'Richard', 'Bandalone', 'Legal', '360-285-8210', 'Richard.Bandalone@wpc.com'), (4, 'Tom', 'Caruthers', 'Accounting', '360-285-8310', 'Tom.Caruthers@wpc.com'), (5, 'Heather', 'Jones', 'Accounting', '360-285-8320', 'Heather.Jones@wpc.com'), (6, 'Mary', 'Abernathy', 'Finance', '360-285-8410', 'Mary.Abernathy@wpc.com'), (7, 'George', 'Smith', 'Human Resources', '360-285-8510', 'George.Smith@wpc.com'), (8, 'Tom', 'Jackson', 'Production', '360-287-8610', 'Tom.Jackson@wpc.com'), (9, 'George', 'Jones', 'Production', '360-287-8620', 'George.Jones@wpc.com'), (10, 'Ken', 'Numoto', 'Marketing', '360-287-8710', 'Ken.Numoto@wpc.com')]\n",
            "[(1000, '2012 Q3 Product Plan', 'Marketing', 135, '10-MAY-12', '15-JUN-12'), (1100, '2012 Q3 Portfolio Analysis', 'Finance', 120, '05-JUL-12', '25-JUL-,2'), (1200, '2012 Q3 Tax Preparation', 'Accounting', 145, '10-AUG-12', '25-OCT-12'), (1300, '2012 Q4 Product Plan', 'Marketing', 150, '10-AUG-12', '15-SEP-12'), (1400, '2012 Q4 Portfolio Analysis', 'Finance', 140, '05-OCT-12', None), (1500, '2012 Q4 Tax Preparation', 'Accounting', 175, '10-DEC-12', None)]\n",
            "[(1000, 1, 30), (1000, 8, 75), (1000, 10, 55), (1100, 4, 40), (1100, 6, 45), (1200, 1, 25), (1200, 2, 20), (1200, 4, 45), (1200, 5, 40), (1300, 1, 35)]\n"
          ]
        }
      ],
      "source": [
        "import sqlite3\n",
        "\n",
        "# Path to your existing database\n",
        "db_file = '/Users/kenechukwuezekwem/Library/CloudStorage/OneDrive-Personal/01_NDSU/WORK/NYU SPS IMC/INTG1-GC 1025 _ Database Management & Modeling/Session02/Session02_Lab/Lab Notes/marketing_db.sqlite'\n",
        "\n",
        "# Connect to the existing database\n",
        "conn = sqlite3.connect(db_file)\n",
        "cursor = conn.cursor()\n",
        "\n",
        "# Example query to check data from the DEPARTMENT table\n",
        "cursor.execute('SELECT * FROM DEPARTMENT LIMIT 10;')\n",
        "print(cursor.fetchall())\n",
        "\n",
        "# Example query to check data from the EMPLOYEE table\n",
        "cursor.execute('SELECT * FROM EMPLOYEE LIMIT 10;')\n",
        "print(cursor.fetchall())\n",
        "\n",
        "# Example query to check data from the PROJECT table\n",
        "cursor.execute('SELECT * FROM PROJECT LIMIT 10;')\n",
        "print(cursor.fetchall())\n",
        "\n",
        "# Example query to check data from the ASSIGNMENT table\n",
        "cursor.execute('SELECT * FROM ASSIGNMENT LIMIT 10;')\n",
        "print(cursor.fetchall())\n",
        "\n",
        "# Close the connection\n",
        "conn.close()\n"
      ]
    },
    {
      "cell_type": "code",
      "execution_count": 4,
      "metadata": {},
      "outputs": [
        {
          "ename": "ValueError",
          "evalue": "Invalid isoformat string: '10-MAY-12'",
          "output_type": "error",
          "traceback": [
            "\u001b[0;31m---------------------------------------------------------------------------\u001b[0m",
            "\u001b[0;31mValueError\u001b[0m                                Traceback (most recent call last)",
            "Cell \u001b[0;32mIn[4], line 44\u001b[0m\n\u001b[1;32m     36\u001b[0m sql_response \u001b[38;5;241m=\u001b[39m (\n\u001b[1;32m     37\u001b[0m     RunnablePassthrough\u001b[38;5;241m.\u001b[39massign(schema\u001b[38;5;241m=\u001b[39mget_schema)\n\u001b[1;32m     38\u001b[0m     \u001b[38;5;241m|\u001b[39m prompt\n\u001b[1;32m     39\u001b[0m     \u001b[38;5;241m|\u001b[39m model\u001b[38;5;241m.\u001b[39mbind(stop\u001b[38;5;241m=\u001b[39m[\u001b[38;5;124m\"\u001b[39m\u001b[38;5;130;01m\\n\u001b[39;00m\u001b[38;5;124mSQLResult:\u001b[39m\u001b[38;5;124m\"\u001b[39m])\n\u001b[1;32m     40\u001b[0m     \u001b[38;5;241m|\u001b[39m StrOutputParser()\n\u001b[1;32m     41\u001b[0m )\n\u001b[1;32m     43\u001b[0m \u001b[38;5;66;03m# Invoke the pipeline with a specific question\u001b[39;00m\n\u001b[0;32m---> 44\u001b[0m \u001b[43msql_response\u001b[49m\u001b[38;5;241;43m.\u001b[39;49m\u001b[43minvoke\u001b[49m\u001b[43m(\u001b[49m\u001b[43m{\u001b[49m\u001b[38;5;124;43m\"\u001b[39;49m\u001b[38;5;124;43mquestion\u001b[39;49m\u001b[38;5;124;43m\"\u001b[39;49m\u001b[43m:\u001b[49m\u001b[43m \u001b[49m\u001b[38;5;124;43m\"\u001b[39;49m\u001b[38;5;124;43mHow many employees are there?\u001b[39;49m\u001b[38;5;124;43m\"\u001b[39;49m\u001b[43m}\u001b[49m\u001b[43m)\u001b[49m\n\u001b[1;32m     46\u001b[0m template \u001b[38;5;241m=\u001b[39m \u001b[38;5;124m\"\"\"\u001b[39m\u001b[38;5;124mBased on the table schema below, question, sql query, and sql response, write a natural language response:\u001b[39m\n\u001b[1;32m     47\u001b[0m \u001b[38;5;132;01m{schema}\u001b[39;00m\n\u001b[1;32m     48\u001b[0m \n\u001b[1;32m     49\u001b[0m \u001b[38;5;124mQuestion: \u001b[39m\u001b[38;5;132;01m{question}\u001b[39;00m\n\u001b[1;32m     50\u001b[0m \u001b[38;5;124mSQL Query: \u001b[39m\u001b[38;5;132;01m{query}\u001b[39;00m\n\u001b[1;32m     51\u001b[0m \u001b[38;5;124mSQL Response: \u001b[39m\u001b[38;5;132;01m{response}\u001b[39;00m\u001b[38;5;124m\"\"\"\u001b[39m\n\u001b[1;32m     52\u001b[0m prompt_response \u001b[38;5;241m=\u001b[39m ChatPromptTemplate\u001b[38;5;241m.\u001b[39mfrom_template(template)\n",
            "File \u001b[0;32m~/Library/CloudStorage/OneDrive-Personal/01_NDSU/WORK/NYU SPS IMC/INTG1-GC 1025 _ Database Management & Modeling/Session02/Session02_Lab/.venv/lib/python3.12/site-packages/langchain_core/runnables/base.py:2499\u001b[0m, in \u001b[0;36mRunnableSequence.invoke\u001b[0;34m(self, input, config)\u001b[0m\n\u001b[1;32m   2497\u001b[0m \u001b[38;5;28;01mtry\u001b[39;00m:\n\u001b[1;32m   2498\u001b[0m     \u001b[38;5;28;01mfor\u001b[39;00m i, step \u001b[38;5;129;01min\u001b[39;00m \u001b[38;5;28menumerate\u001b[39m(\u001b[38;5;28mself\u001b[39m\u001b[38;5;241m.\u001b[39msteps):\n\u001b[0;32m-> 2499\u001b[0m         \u001b[38;5;28minput\u001b[39m \u001b[38;5;241m=\u001b[39m \u001b[43mstep\u001b[49m\u001b[38;5;241;43m.\u001b[39;49m\u001b[43minvoke\u001b[49m\u001b[43m(\u001b[49m\n\u001b[1;32m   2500\u001b[0m \u001b[43m            \u001b[49m\u001b[38;5;28;43minput\u001b[39;49m\u001b[43m,\u001b[49m\n\u001b[1;32m   2501\u001b[0m \u001b[43m            \u001b[49m\u001b[38;5;66;43;03m# mark each step as a child run\u001b[39;49;00m\n\u001b[1;32m   2502\u001b[0m \u001b[43m            \u001b[49m\u001b[43mpatch_config\u001b[49m\u001b[43m(\u001b[49m\n\u001b[1;32m   2503\u001b[0m \u001b[43m                \u001b[49m\u001b[43mconfig\u001b[49m\u001b[43m,\u001b[49m\u001b[43m \u001b[49m\u001b[43mcallbacks\u001b[49m\u001b[38;5;241;43m=\u001b[39;49m\u001b[43mrun_manager\u001b[49m\u001b[38;5;241;43m.\u001b[39;49m\u001b[43mget_child\u001b[49m\u001b[43m(\u001b[49m\u001b[38;5;124;43mf\u001b[39;49m\u001b[38;5;124;43m\"\u001b[39;49m\u001b[38;5;124;43mseq:step:\u001b[39;49m\u001b[38;5;132;43;01m{\u001b[39;49;00m\u001b[43mi\u001b[49m\u001b[38;5;241;43m+\u001b[39;49m\u001b[38;5;241;43m1\u001b[39;49m\u001b[38;5;132;43;01m}\u001b[39;49;00m\u001b[38;5;124;43m\"\u001b[39;49m\u001b[43m)\u001b[49m\n\u001b[1;32m   2504\u001b[0m \u001b[43m            \u001b[49m\u001b[43m)\u001b[49m\u001b[43m,\u001b[49m\n\u001b[1;32m   2505\u001b[0m \u001b[43m        \u001b[49m\u001b[43m)\u001b[49m\n\u001b[1;32m   2506\u001b[0m \u001b[38;5;66;03m# finish the root run\u001b[39;00m\n\u001b[1;32m   2507\u001b[0m \u001b[38;5;28;01mexcept\u001b[39;00m \u001b[38;5;167;01mBaseException\u001b[39;00m \u001b[38;5;28;01mas\u001b[39;00m e:\n",
            "File \u001b[0;32m~/Library/CloudStorage/OneDrive-Personal/01_NDSU/WORK/NYU SPS IMC/INTG1-GC 1025 _ Database Management & Modeling/Session02/Session02_Lab/.venv/lib/python3.12/site-packages/langchain_core/runnables/passthrough.py:453\u001b[0m, in \u001b[0;36mRunnableAssign.invoke\u001b[0;34m(self, input, config, **kwargs)\u001b[0m\n\u001b[1;32m    447\u001b[0m \u001b[38;5;28;01mdef\u001b[39;00m \u001b[38;5;21minvoke\u001b[39m(\n\u001b[1;32m    448\u001b[0m     \u001b[38;5;28mself\u001b[39m,\n\u001b[1;32m    449\u001b[0m     \u001b[38;5;28minput\u001b[39m: Dict[\u001b[38;5;28mstr\u001b[39m, Any],\n\u001b[1;32m    450\u001b[0m     config: Optional[RunnableConfig] \u001b[38;5;241m=\u001b[39m \u001b[38;5;28;01mNone\u001b[39;00m,\n\u001b[1;32m    451\u001b[0m     \u001b[38;5;241m*\u001b[39m\u001b[38;5;241m*\u001b[39mkwargs: Any,\n\u001b[1;32m    452\u001b[0m ) \u001b[38;5;241m-\u001b[39m\u001b[38;5;241m>\u001b[39m Dict[\u001b[38;5;28mstr\u001b[39m, Any]:\n\u001b[0;32m--> 453\u001b[0m     \u001b[38;5;28;01mreturn\u001b[39;00m \u001b[38;5;28;43mself\u001b[39;49m\u001b[38;5;241;43m.\u001b[39;49m\u001b[43m_call_with_config\u001b[49m\u001b[43m(\u001b[49m\u001b[38;5;28;43mself\u001b[39;49m\u001b[38;5;241;43m.\u001b[39;49m\u001b[43m_invoke\u001b[49m\u001b[43m,\u001b[49m\u001b[43m \u001b[49m\u001b[38;5;28;43minput\u001b[39;49m\u001b[43m,\u001b[49m\u001b[43m \u001b[49m\u001b[43mconfig\u001b[49m\u001b[43m,\u001b[49m\u001b[43m \u001b[49m\u001b[38;5;241;43m*\u001b[39;49m\u001b[38;5;241;43m*\u001b[39;49m\u001b[43mkwargs\u001b[49m\u001b[43m)\u001b[49m\n",
            "File \u001b[0;32m~/Library/CloudStorage/OneDrive-Personal/01_NDSU/WORK/NYU SPS IMC/INTG1-GC 1025 _ Database Management & Modeling/Session02/Session02_Lab/.venv/lib/python3.12/site-packages/langchain_core/runnables/base.py:1625\u001b[0m, in \u001b[0;36mRunnable._call_with_config\u001b[0;34m(self, func, input, config, run_type, **kwargs)\u001b[0m\n\u001b[1;32m   1621\u001b[0m     context \u001b[38;5;241m=\u001b[39m copy_context()\n\u001b[1;32m   1622\u001b[0m     context\u001b[38;5;241m.\u001b[39mrun(var_child_runnable_config\u001b[38;5;241m.\u001b[39mset, child_config)\n\u001b[1;32m   1623\u001b[0m     output \u001b[38;5;241m=\u001b[39m cast(\n\u001b[1;32m   1624\u001b[0m         Output,\n\u001b[0;32m-> 1625\u001b[0m         \u001b[43mcontext\u001b[49m\u001b[38;5;241;43m.\u001b[39;49m\u001b[43mrun\u001b[49m\u001b[43m(\u001b[49m\n\u001b[1;32m   1626\u001b[0m \u001b[43m            \u001b[49m\u001b[43mcall_func_with_variable_args\u001b[49m\u001b[43m,\u001b[49m\u001b[43m  \u001b[49m\u001b[38;5;66;43;03m# type: ignore[arg-type]\u001b[39;49;00m\n\u001b[1;32m   1627\u001b[0m \u001b[43m            \u001b[49m\u001b[43mfunc\u001b[49m\u001b[43m,\u001b[49m\u001b[43m  \u001b[49m\u001b[38;5;66;43;03m# type: ignore[arg-type]\u001b[39;49;00m\n\u001b[1;32m   1628\u001b[0m \u001b[43m            \u001b[49m\u001b[38;5;28;43minput\u001b[39;49m\u001b[43m,\u001b[49m\u001b[43m  \u001b[49m\u001b[38;5;66;43;03m# type: ignore[arg-type]\u001b[39;49;00m\n\u001b[1;32m   1629\u001b[0m \u001b[43m            \u001b[49m\u001b[43mconfig\u001b[49m\u001b[43m,\u001b[49m\n\u001b[1;32m   1630\u001b[0m \u001b[43m            \u001b[49m\u001b[43mrun_manager\u001b[49m\u001b[43m,\u001b[49m\n\u001b[1;32m   1631\u001b[0m \u001b[43m            \u001b[49m\u001b[38;5;241;43m*\u001b[39;49m\u001b[38;5;241;43m*\u001b[39;49m\u001b[43mkwargs\u001b[49m\u001b[43m,\u001b[49m\n\u001b[1;32m   1632\u001b[0m \u001b[43m        \u001b[49m\u001b[43m)\u001b[49m,\n\u001b[1;32m   1633\u001b[0m     )\n\u001b[1;32m   1634\u001b[0m \u001b[38;5;28;01mexcept\u001b[39;00m \u001b[38;5;167;01mBaseException\u001b[39;00m \u001b[38;5;28;01mas\u001b[39;00m e:\n\u001b[1;32m   1635\u001b[0m     run_manager\u001b[38;5;241m.\u001b[39mon_chain_error(e)\n",
            "File \u001b[0;32m~/Library/CloudStorage/OneDrive-Personal/01_NDSU/WORK/NYU SPS IMC/INTG1-GC 1025 _ Database Management & Modeling/Session02/Session02_Lab/.venv/lib/python3.12/site-packages/langchain_core/runnables/config.py:347\u001b[0m, in \u001b[0;36mcall_func_with_variable_args\u001b[0;34m(func, input, config, run_manager, **kwargs)\u001b[0m\n\u001b[1;32m    345\u001b[0m \u001b[38;5;28;01mif\u001b[39;00m run_manager \u001b[38;5;129;01mis\u001b[39;00m \u001b[38;5;129;01mnot\u001b[39;00m \u001b[38;5;28;01mNone\u001b[39;00m \u001b[38;5;129;01mand\u001b[39;00m accepts_run_manager(func):\n\u001b[1;32m    346\u001b[0m     kwargs[\u001b[38;5;124m\"\u001b[39m\u001b[38;5;124mrun_manager\u001b[39m\u001b[38;5;124m\"\u001b[39m] \u001b[38;5;241m=\u001b[39m run_manager\n\u001b[0;32m--> 347\u001b[0m \u001b[38;5;28;01mreturn\u001b[39;00m \u001b[43mfunc\u001b[49m\u001b[43m(\u001b[49m\u001b[38;5;28;43minput\u001b[39;49m\u001b[43m,\u001b[49m\u001b[43m \u001b[49m\u001b[38;5;241;43m*\u001b[39;49m\u001b[38;5;241;43m*\u001b[39;49m\u001b[43mkwargs\u001b[49m\u001b[43m)\u001b[49m\n",
            "File \u001b[0;32m~/Library/CloudStorage/OneDrive-Personal/01_NDSU/WORK/NYU SPS IMC/INTG1-GC 1025 _ Database Management & Modeling/Session02/Session02_Lab/.venv/lib/python3.12/site-packages/langchain_core/runnables/passthrough.py:440\u001b[0m, in \u001b[0;36mRunnableAssign._invoke\u001b[0;34m(self, input, run_manager, config, **kwargs)\u001b[0m\n\u001b[1;32m    427\u001b[0m \u001b[38;5;28;01mdef\u001b[39;00m \u001b[38;5;21m_invoke\u001b[39m(\n\u001b[1;32m    428\u001b[0m     \u001b[38;5;28mself\u001b[39m,\n\u001b[1;32m    429\u001b[0m     \u001b[38;5;28minput\u001b[39m: Dict[\u001b[38;5;28mstr\u001b[39m, Any],\n\u001b[0;32m   (...)\u001b[0m\n\u001b[1;32m    432\u001b[0m     \u001b[38;5;241m*\u001b[39m\u001b[38;5;241m*\u001b[39mkwargs: Any,\n\u001b[1;32m    433\u001b[0m ) \u001b[38;5;241m-\u001b[39m\u001b[38;5;241m>\u001b[39m Dict[\u001b[38;5;28mstr\u001b[39m, Any]:\n\u001b[1;32m    434\u001b[0m     \u001b[38;5;28;01massert\u001b[39;00m \u001b[38;5;28misinstance\u001b[39m(\n\u001b[1;32m    435\u001b[0m         \u001b[38;5;28minput\u001b[39m, \u001b[38;5;28mdict\u001b[39m\n\u001b[1;32m    436\u001b[0m     ), \u001b[38;5;124m\"\u001b[39m\u001b[38;5;124mThe input to RunnablePassthrough.assign() must be a dict.\u001b[39m\u001b[38;5;124m\"\u001b[39m\n\u001b[1;32m    438\u001b[0m     \u001b[38;5;28;01mreturn\u001b[39;00m {\n\u001b[1;32m    439\u001b[0m         \u001b[38;5;241m*\u001b[39m\u001b[38;5;241m*\u001b[39m\u001b[38;5;28minput\u001b[39m,\n\u001b[0;32m--> 440\u001b[0m         \u001b[38;5;241m*\u001b[39m\u001b[38;5;241m*\u001b[39m\u001b[38;5;28;43mself\u001b[39;49m\u001b[38;5;241;43m.\u001b[39;49m\u001b[43mmapper\u001b[49m\u001b[38;5;241;43m.\u001b[39;49m\u001b[43minvoke\u001b[49m\u001b[43m(\u001b[49m\n\u001b[1;32m    441\u001b[0m \u001b[43m            \u001b[49m\u001b[38;5;28;43minput\u001b[39;49m\u001b[43m,\u001b[49m\n\u001b[1;32m    442\u001b[0m \u001b[43m            \u001b[49m\u001b[43mpatch_config\u001b[49m\u001b[43m(\u001b[49m\u001b[43mconfig\u001b[49m\u001b[43m,\u001b[49m\u001b[43m \u001b[49m\u001b[43mcallbacks\u001b[49m\u001b[38;5;241;43m=\u001b[39;49m\u001b[43mrun_manager\u001b[49m\u001b[38;5;241;43m.\u001b[39;49m\u001b[43mget_child\u001b[49m\u001b[43m(\u001b[49m\u001b[43m)\u001b[49m\u001b[43m)\u001b[49m\u001b[43m,\u001b[49m\n\u001b[1;32m    443\u001b[0m \u001b[43m            \u001b[49m\u001b[38;5;241;43m*\u001b[39;49m\u001b[38;5;241;43m*\u001b[39;49m\u001b[43mkwargs\u001b[49m\u001b[43m,\u001b[49m\n\u001b[1;32m    444\u001b[0m \u001b[43m        \u001b[49m\u001b[43m)\u001b[49m,\n\u001b[1;32m    445\u001b[0m     }\n",
            "File \u001b[0;32m~/Library/CloudStorage/OneDrive-Personal/01_NDSU/WORK/NYU SPS IMC/INTG1-GC 1025 _ Database Management & Modeling/Session02/Session02_Lab/.venv/lib/python3.12/site-packages/langchain_core/runnables/base.py:3144\u001b[0m, in \u001b[0;36mRunnableParallel.invoke\u001b[0;34m(self, input, config)\u001b[0m\n\u001b[1;32m   3131\u001b[0m     \u001b[38;5;28;01mwith\u001b[39;00m get_executor_for_config(config) \u001b[38;5;28;01mas\u001b[39;00m executor:\n\u001b[1;32m   3132\u001b[0m         futures \u001b[38;5;241m=\u001b[39m [\n\u001b[1;32m   3133\u001b[0m             executor\u001b[38;5;241m.\u001b[39msubmit(\n\u001b[1;32m   3134\u001b[0m                 step\u001b[38;5;241m.\u001b[39minvoke,\n\u001b[0;32m   (...)\u001b[0m\n\u001b[1;32m   3142\u001b[0m             \u001b[38;5;28;01mfor\u001b[39;00m key, step \u001b[38;5;129;01min\u001b[39;00m steps\u001b[38;5;241m.\u001b[39mitems()\n\u001b[1;32m   3143\u001b[0m         ]\n\u001b[0;32m-> 3144\u001b[0m         output \u001b[38;5;241m=\u001b[39m {key: \u001b[43mfuture\u001b[49m\u001b[38;5;241;43m.\u001b[39;49m\u001b[43mresult\u001b[49m\u001b[43m(\u001b[49m\u001b[43m)\u001b[49m \u001b[38;5;28;01mfor\u001b[39;00m key, future \u001b[38;5;129;01min\u001b[39;00m \u001b[38;5;28mzip\u001b[39m(steps, futures)}\n\u001b[1;32m   3145\u001b[0m \u001b[38;5;66;03m# finish the root run\u001b[39;00m\n\u001b[1;32m   3146\u001b[0m \u001b[38;5;28;01mexcept\u001b[39;00m \u001b[38;5;167;01mBaseException\u001b[39;00m \u001b[38;5;28;01mas\u001b[39;00m e:\n",
            "File \u001b[0;32m/Library/Frameworks/Python.framework/Versions/3.12/lib/python3.12/concurrent/futures/_base.py:456\u001b[0m, in \u001b[0;36mFuture.result\u001b[0;34m(self, timeout)\u001b[0m\n\u001b[1;32m    454\u001b[0m     \u001b[38;5;28;01mraise\u001b[39;00m CancelledError()\n\u001b[1;32m    455\u001b[0m \u001b[38;5;28;01melif\u001b[39;00m \u001b[38;5;28mself\u001b[39m\u001b[38;5;241m.\u001b[39m_state \u001b[38;5;241m==\u001b[39m FINISHED:\n\u001b[0;32m--> 456\u001b[0m     \u001b[38;5;28;01mreturn\u001b[39;00m \u001b[38;5;28;43mself\u001b[39;49m\u001b[38;5;241;43m.\u001b[39;49m\u001b[43m__get_result\u001b[49m\u001b[43m(\u001b[49m\u001b[43m)\u001b[49m\n\u001b[1;32m    457\u001b[0m \u001b[38;5;28;01melse\u001b[39;00m:\n\u001b[1;32m    458\u001b[0m     \u001b[38;5;28;01mraise\u001b[39;00m \u001b[38;5;167;01mTimeoutError\u001b[39;00m()\n",
            "File \u001b[0;32m/Library/Frameworks/Python.framework/Versions/3.12/lib/python3.12/concurrent/futures/_base.py:401\u001b[0m, in \u001b[0;36mFuture.__get_result\u001b[0;34m(self)\u001b[0m\n\u001b[1;32m    399\u001b[0m \u001b[38;5;28;01mif\u001b[39;00m \u001b[38;5;28mself\u001b[39m\u001b[38;5;241m.\u001b[39m_exception:\n\u001b[1;32m    400\u001b[0m     \u001b[38;5;28;01mtry\u001b[39;00m:\n\u001b[0;32m--> 401\u001b[0m         \u001b[38;5;28;01mraise\u001b[39;00m \u001b[38;5;28mself\u001b[39m\u001b[38;5;241m.\u001b[39m_exception\n\u001b[1;32m    402\u001b[0m     \u001b[38;5;28;01mfinally\u001b[39;00m:\n\u001b[1;32m    403\u001b[0m         \u001b[38;5;66;03m# Break a reference cycle with the exception in self._exception\u001b[39;00m\n\u001b[1;32m    404\u001b[0m         \u001b[38;5;28mself\u001b[39m \u001b[38;5;241m=\u001b[39m \u001b[38;5;28;01mNone\u001b[39;00m\n",
            "File \u001b[0;32m/Library/Frameworks/Python.framework/Versions/3.12/lib/python3.12/concurrent/futures/thread.py:58\u001b[0m, in \u001b[0;36m_WorkItem.run\u001b[0;34m(self)\u001b[0m\n\u001b[1;32m     55\u001b[0m     \u001b[38;5;28;01mreturn\u001b[39;00m\n\u001b[1;32m     57\u001b[0m \u001b[38;5;28;01mtry\u001b[39;00m:\n\u001b[0;32m---> 58\u001b[0m     result \u001b[38;5;241m=\u001b[39m \u001b[38;5;28;43mself\u001b[39;49m\u001b[38;5;241;43m.\u001b[39;49m\u001b[43mfn\u001b[49m\u001b[43m(\u001b[49m\u001b[38;5;241;43m*\u001b[39;49m\u001b[38;5;28;43mself\u001b[39;49m\u001b[38;5;241;43m.\u001b[39;49m\u001b[43margs\u001b[49m\u001b[43m,\u001b[49m\u001b[43m \u001b[49m\u001b[38;5;241;43m*\u001b[39;49m\u001b[38;5;241;43m*\u001b[39;49m\u001b[38;5;28;43mself\u001b[39;49m\u001b[38;5;241;43m.\u001b[39;49m\u001b[43mkwargs\u001b[49m\u001b[43m)\u001b[49m\n\u001b[1;32m     59\u001b[0m \u001b[38;5;28;01mexcept\u001b[39;00m \u001b[38;5;167;01mBaseException\u001b[39;00m \u001b[38;5;28;01mas\u001b[39;00m exc:\n\u001b[1;32m     60\u001b[0m     \u001b[38;5;28mself\u001b[39m\u001b[38;5;241m.\u001b[39mfuture\u001b[38;5;241m.\u001b[39mset_exception(exc)\n",
            "File \u001b[0;32m~/Library/CloudStorage/OneDrive-Personal/01_NDSU/WORK/NYU SPS IMC/INTG1-GC 1025 _ Database Management & Modeling/Session02/Session02_Lab/.venv/lib/python3.12/site-packages/langchain_core/runnables/base.py:3961\u001b[0m, in \u001b[0;36mRunnableLambda.invoke\u001b[0;34m(self, input, config, **kwargs)\u001b[0m\n\u001b[1;32m   3959\u001b[0m \u001b[38;5;250m\u001b[39m\u001b[38;5;124;03m\"\"\"Invoke this runnable synchronously.\"\"\"\u001b[39;00m\n\u001b[1;32m   3960\u001b[0m \u001b[38;5;28;01mif\u001b[39;00m \u001b[38;5;28mhasattr\u001b[39m(\u001b[38;5;28mself\u001b[39m, \u001b[38;5;124m\"\u001b[39m\u001b[38;5;124mfunc\u001b[39m\u001b[38;5;124m\"\u001b[39m):\n\u001b[0;32m-> 3961\u001b[0m     \u001b[38;5;28;01mreturn\u001b[39;00m \u001b[38;5;28;43mself\u001b[39;49m\u001b[38;5;241;43m.\u001b[39;49m\u001b[43m_call_with_config\u001b[49m\u001b[43m(\u001b[49m\n\u001b[1;32m   3962\u001b[0m \u001b[43m        \u001b[49m\u001b[38;5;28;43mself\u001b[39;49m\u001b[38;5;241;43m.\u001b[39;49m\u001b[43m_invoke\u001b[49m\u001b[43m,\u001b[49m\n\u001b[1;32m   3963\u001b[0m \u001b[43m        \u001b[49m\u001b[38;5;28;43minput\u001b[39;49m\u001b[43m,\u001b[49m\n\u001b[1;32m   3964\u001b[0m \u001b[43m        \u001b[49m\u001b[38;5;28;43mself\u001b[39;49m\u001b[38;5;241;43m.\u001b[39;49m\u001b[43m_config\u001b[49m\u001b[43m(\u001b[49m\u001b[43mconfig\u001b[49m\u001b[43m,\u001b[49m\u001b[43m \u001b[49m\u001b[38;5;28;43mself\u001b[39;49m\u001b[38;5;241;43m.\u001b[39;49m\u001b[43mfunc\u001b[49m\u001b[43m)\u001b[49m\u001b[43m,\u001b[49m\n\u001b[1;32m   3965\u001b[0m \u001b[43m        \u001b[49m\u001b[38;5;241;43m*\u001b[39;49m\u001b[38;5;241;43m*\u001b[39;49m\u001b[43mkwargs\u001b[49m\u001b[43m,\u001b[49m\n\u001b[1;32m   3966\u001b[0m \u001b[43m    \u001b[49m\u001b[43m)\u001b[49m\n\u001b[1;32m   3967\u001b[0m \u001b[38;5;28;01melse\u001b[39;00m:\n\u001b[1;32m   3968\u001b[0m     \u001b[38;5;28;01mraise\u001b[39;00m \u001b[38;5;167;01mTypeError\u001b[39;00m(\n\u001b[1;32m   3969\u001b[0m         \u001b[38;5;124m\"\u001b[39m\u001b[38;5;124mCannot invoke a coroutine function synchronously.\u001b[39m\u001b[38;5;124m\"\u001b[39m\n\u001b[1;32m   3970\u001b[0m         \u001b[38;5;124m\"\u001b[39m\u001b[38;5;124mUse `ainvoke` instead.\u001b[39m\u001b[38;5;124m\"\u001b[39m\n\u001b[1;32m   3971\u001b[0m     )\n",
            "File \u001b[0;32m~/Library/CloudStorage/OneDrive-Personal/01_NDSU/WORK/NYU SPS IMC/INTG1-GC 1025 _ Database Management & Modeling/Session02/Session02_Lab/.venv/lib/python3.12/site-packages/langchain_core/runnables/base.py:1625\u001b[0m, in \u001b[0;36mRunnable._call_with_config\u001b[0;34m(self, func, input, config, run_type, **kwargs)\u001b[0m\n\u001b[1;32m   1621\u001b[0m     context \u001b[38;5;241m=\u001b[39m copy_context()\n\u001b[1;32m   1622\u001b[0m     context\u001b[38;5;241m.\u001b[39mrun(var_child_runnable_config\u001b[38;5;241m.\u001b[39mset, child_config)\n\u001b[1;32m   1623\u001b[0m     output \u001b[38;5;241m=\u001b[39m cast(\n\u001b[1;32m   1624\u001b[0m         Output,\n\u001b[0;32m-> 1625\u001b[0m         \u001b[43mcontext\u001b[49m\u001b[38;5;241;43m.\u001b[39;49m\u001b[43mrun\u001b[49m\u001b[43m(\u001b[49m\n\u001b[1;32m   1626\u001b[0m \u001b[43m            \u001b[49m\u001b[43mcall_func_with_variable_args\u001b[49m\u001b[43m,\u001b[49m\u001b[43m  \u001b[49m\u001b[38;5;66;43;03m# type: ignore[arg-type]\u001b[39;49;00m\n\u001b[1;32m   1627\u001b[0m \u001b[43m            \u001b[49m\u001b[43mfunc\u001b[49m\u001b[43m,\u001b[49m\u001b[43m  \u001b[49m\u001b[38;5;66;43;03m# type: ignore[arg-type]\u001b[39;49;00m\n\u001b[1;32m   1628\u001b[0m \u001b[43m            \u001b[49m\u001b[38;5;28;43minput\u001b[39;49m\u001b[43m,\u001b[49m\u001b[43m  \u001b[49m\u001b[38;5;66;43;03m# type: ignore[arg-type]\u001b[39;49;00m\n\u001b[1;32m   1629\u001b[0m \u001b[43m            \u001b[49m\u001b[43mconfig\u001b[49m\u001b[43m,\u001b[49m\n\u001b[1;32m   1630\u001b[0m \u001b[43m            \u001b[49m\u001b[43mrun_manager\u001b[49m\u001b[43m,\u001b[49m\n\u001b[1;32m   1631\u001b[0m \u001b[43m            \u001b[49m\u001b[38;5;241;43m*\u001b[39;49m\u001b[38;5;241;43m*\u001b[39;49m\u001b[43mkwargs\u001b[49m\u001b[43m,\u001b[49m\n\u001b[1;32m   1632\u001b[0m \u001b[43m        \u001b[49m\u001b[43m)\u001b[49m,\n\u001b[1;32m   1633\u001b[0m     )\n\u001b[1;32m   1634\u001b[0m \u001b[38;5;28;01mexcept\u001b[39;00m \u001b[38;5;167;01mBaseException\u001b[39;00m \u001b[38;5;28;01mas\u001b[39;00m e:\n\u001b[1;32m   1635\u001b[0m     run_manager\u001b[38;5;241m.\u001b[39mon_chain_error(e)\n",
            "File \u001b[0;32m~/Library/CloudStorage/OneDrive-Personal/01_NDSU/WORK/NYU SPS IMC/INTG1-GC 1025 _ Database Management & Modeling/Session02/Session02_Lab/.venv/lib/python3.12/site-packages/langchain_core/runnables/config.py:347\u001b[0m, in \u001b[0;36mcall_func_with_variable_args\u001b[0;34m(func, input, config, run_manager, **kwargs)\u001b[0m\n\u001b[1;32m    345\u001b[0m \u001b[38;5;28;01mif\u001b[39;00m run_manager \u001b[38;5;129;01mis\u001b[39;00m \u001b[38;5;129;01mnot\u001b[39;00m \u001b[38;5;28;01mNone\u001b[39;00m \u001b[38;5;129;01mand\u001b[39;00m accepts_run_manager(func):\n\u001b[1;32m    346\u001b[0m     kwargs[\u001b[38;5;124m\"\u001b[39m\u001b[38;5;124mrun_manager\u001b[39m\u001b[38;5;124m\"\u001b[39m] \u001b[38;5;241m=\u001b[39m run_manager\n\u001b[0;32m--> 347\u001b[0m \u001b[38;5;28;01mreturn\u001b[39;00m \u001b[43mfunc\u001b[49m\u001b[43m(\u001b[49m\u001b[38;5;28;43minput\u001b[39;49m\u001b[43m,\u001b[49m\u001b[43m \u001b[49m\u001b[38;5;241;43m*\u001b[39;49m\u001b[38;5;241;43m*\u001b[39;49m\u001b[43mkwargs\u001b[49m\u001b[43m)\u001b[49m\n",
            "File \u001b[0;32m~/Library/CloudStorage/OneDrive-Personal/01_NDSU/WORK/NYU SPS IMC/INTG1-GC 1025 _ Database Management & Modeling/Session02/Session02_Lab/.venv/lib/python3.12/site-packages/langchain_core/runnables/base.py:3835\u001b[0m, in \u001b[0;36mRunnableLambda._invoke\u001b[0;34m(self, input, run_manager, config, **kwargs)\u001b[0m\n\u001b[1;32m   3833\u001b[0m                 output \u001b[38;5;241m=\u001b[39m chunk\n\u001b[1;32m   3834\u001b[0m \u001b[38;5;28;01melse\u001b[39;00m:\n\u001b[0;32m-> 3835\u001b[0m     output \u001b[38;5;241m=\u001b[39m \u001b[43mcall_func_with_variable_args\u001b[49m\u001b[43m(\u001b[49m\n\u001b[1;32m   3836\u001b[0m \u001b[43m        \u001b[49m\u001b[38;5;28;43mself\u001b[39;49m\u001b[38;5;241;43m.\u001b[39;49m\u001b[43mfunc\u001b[49m\u001b[43m,\u001b[49m\u001b[43m \u001b[49m\u001b[38;5;28;43minput\u001b[39;49m\u001b[43m,\u001b[49m\u001b[43m \u001b[49m\u001b[43mconfig\u001b[49m\u001b[43m,\u001b[49m\u001b[43m \u001b[49m\u001b[43mrun_manager\u001b[49m\u001b[43m,\u001b[49m\u001b[43m \u001b[49m\u001b[38;5;241;43m*\u001b[39;49m\u001b[38;5;241;43m*\u001b[39;49m\u001b[43mkwargs\u001b[49m\n\u001b[1;32m   3837\u001b[0m \u001b[43m    \u001b[49m\u001b[43m)\u001b[49m\n\u001b[1;32m   3838\u001b[0m \u001b[38;5;66;03m# If the output is a runnable, invoke it\u001b[39;00m\n\u001b[1;32m   3839\u001b[0m \u001b[38;5;28;01mif\u001b[39;00m \u001b[38;5;28misinstance\u001b[39m(output, Runnable):\n",
            "File \u001b[0;32m~/Library/CloudStorage/OneDrive-Personal/01_NDSU/WORK/NYU SPS IMC/INTG1-GC 1025 _ Database Management & Modeling/Session02/Session02_Lab/.venv/lib/python3.12/site-packages/langchain_core/runnables/config.py:347\u001b[0m, in \u001b[0;36mcall_func_with_variable_args\u001b[0;34m(func, input, config, run_manager, **kwargs)\u001b[0m\n\u001b[1;32m    345\u001b[0m \u001b[38;5;28;01mif\u001b[39;00m run_manager \u001b[38;5;129;01mis\u001b[39;00m \u001b[38;5;129;01mnot\u001b[39;00m \u001b[38;5;28;01mNone\u001b[39;00m \u001b[38;5;129;01mand\u001b[39;00m accepts_run_manager(func):\n\u001b[1;32m    346\u001b[0m     kwargs[\u001b[38;5;124m\"\u001b[39m\u001b[38;5;124mrun_manager\u001b[39m\u001b[38;5;124m\"\u001b[39m] \u001b[38;5;241m=\u001b[39m run_manager\n\u001b[0;32m--> 347\u001b[0m \u001b[38;5;28;01mreturn\u001b[39;00m \u001b[43mfunc\u001b[49m\u001b[43m(\u001b[49m\u001b[38;5;28;43minput\u001b[39;49m\u001b[43m,\u001b[49m\u001b[43m \u001b[49m\u001b[38;5;241;43m*\u001b[39;49m\u001b[38;5;241;43m*\u001b[39;49m\u001b[43mkwargs\u001b[49m\u001b[43m)\u001b[49m\n",
            "Cell \u001b[0;32mIn[4], line 27\u001b[0m, in \u001b[0;36mget_schema\u001b[0;34m(_)\u001b[0m\n\u001b[1;32m     26\u001b[0m \u001b[38;5;28;01mdef\u001b[39;00m \u001b[38;5;21mget_schema\u001b[39m(_):\n\u001b[0;32m---> 27\u001b[0m     \u001b[38;5;28;01mreturn\u001b[39;00m \u001b[43mdb\u001b[49m\u001b[38;5;241;43m.\u001b[39;49m\u001b[43mget_table_info\u001b[49m\u001b[43m(\u001b[49m\u001b[43m)\u001b[49m\n",
            "File \u001b[0;32m~/Library/CloudStorage/OneDrive-Personal/01_NDSU/WORK/NYU SPS IMC/INTG1-GC 1025 _ Database Management & Modeling/Session02/Session02_Lab/.venv/lib/python3.12/site-packages/langchain_community/utilities/sql_database.py:352\u001b[0m, in \u001b[0;36mSQLDatabase.get_table_info\u001b[0;34m(self, table_names)\u001b[0m\n\u001b[1;32m    350\u001b[0m     table_info \u001b[38;5;241m+\u001b[39m\u001b[38;5;241m=\u001b[39m \u001b[38;5;124mf\u001b[39m\u001b[38;5;124m\"\u001b[39m\u001b[38;5;130;01m\\n\u001b[39;00m\u001b[38;5;132;01m{\u001b[39;00m\u001b[38;5;28mself\u001b[39m\u001b[38;5;241m.\u001b[39m_get_table_indexes(table)\u001b[38;5;132;01m}\u001b[39;00m\u001b[38;5;130;01m\\n\u001b[39;00m\u001b[38;5;124m\"\u001b[39m\n\u001b[1;32m    351\u001b[0m \u001b[38;5;28;01mif\u001b[39;00m \u001b[38;5;28mself\u001b[39m\u001b[38;5;241m.\u001b[39m_sample_rows_in_table_info:\n\u001b[0;32m--> 352\u001b[0m     table_info \u001b[38;5;241m+\u001b[39m\u001b[38;5;241m=\u001b[39m \u001b[38;5;124mf\u001b[39m\u001b[38;5;124m\"\u001b[39m\u001b[38;5;130;01m\\n\u001b[39;00m\u001b[38;5;132;01m{\u001b[39;00m\u001b[38;5;28;43mself\u001b[39;49m\u001b[38;5;241;43m.\u001b[39;49m\u001b[43m_get_sample_rows\u001b[49m\u001b[43m(\u001b[49m\u001b[43mtable\u001b[49m\u001b[43m)\u001b[49m\u001b[38;5;132;01m}\u001b[39;00m\u001b[38;5;130;01m\\n\u001b[39;00m\u001b[38;5;124m\"\u001b[39m\n\u001b[1;32m    353\u001b[0m \u001b[38;5;28;01mif\u001b[39;00m has_extra_info:\n\u001b[1;32m    354\u001b[0m     table_info \u001b[38;5;241m+\u001b[39m\u001b[38;5;241m=\u001b[39m \u001b[38;5;124m\"\u001b[39m\u001b[38;5;124m*/\u001b[39m\u001b[38;5;124m\"\u001b[39m\n",
            "File \u001b[0;32m~/Library/CloudStorage/OneDrive-Personal/01_NDSU/WORK/NYU SPS IMC/INTG1-GC 1025 _ Database Management & Modeling/Session02/Session02_Lab/.venv/lib/python3.12/site-packages/langchain_community/utilities/sql_database.py:377\u001b[0m, in \u001b[0;36mSQLDatabase._get_sample_rows\u001b[0;34m(self, table)\u001b[0m\n\u001b[1;32m    375\u001b[0m     sample_rows_result \u001b[38;5;241m=\u001b[39m connection\u001b[38;5;241m.\u001b[39mexecute(command)  \u001b[38;5;66;03m# type: ignore\u001b[39;00m\n\u001b[1;32m    376\u001b[0m     \u001b[38;5;66;03m# shorten values in the sample rows\u001b[39;00m\n\u001b[0;32m--> 377\u001b[0m     sample_rows \u001b[38;5;241m=\u001b[39m \u001b[38;5;28;43mlist\u001b[39;49m\u001b[43m(\u001b[49m\n\u001b[1;32m    378\u001b[0m \u001b[43m        \u001b[49m\u001b[38;5;28;43mmap\u001b[39;49m\u001b[43m(\u001b[49m\u001b[38;5;28;43;01mlambda\u001b[39;49;00m\u001b[43m \u001b[49m\u001b[43mls\u001b[49m\u001b[43m:\u001b[49m\u001b[43m \u001b[49m\u001b[43m[\u001b[49m\u001b[38;5;28;43mstr\u001b[39;49m\u001b[43m(\u001b[49m\u001b[43mi\u001b[49m\u001b[43m)\u001b[49m\u001b[43m[\u001b[49m\u001b[43m:\u001b[49m\u001b[38;5;241;43m100\u001b[39;49m\u001b[43m]\u001b[49m\u001b[43m \u001b[49m\u001b[38;5;28;43;01mfor\u001b[39;49;00m\u001b[43m \u001b[49m\u001b[43mi\u001b[49m\u001b[43m \u001b[49m\u001b[38;5;129;43;01min\u001b[39;49;00m\u001b[43m \u001b[49m\u001b[43mls\u001b[49m\u001b[43m]\u001b[49m\u001b[43m,\u001b[49m\u001b[43m \u001b[49m\u001b[43msample_rows_result\u001b[49m\u001b[43m)\u001b[49m\n\u001b[1;32m    379\u001b[0m \u001b[43m    \u001b[49m\u001b[43m)\u001b[49m\n\u001b[1;32m    381\u001b[0m \u001b[38;5;66;03m# save the sample rows in string format\u001b[39;00m\n\u001b[1;32m    382\u001b[0m sample_rows_str \u001b[38;5;241m=\u001b[39m \u001b[38;5;124m\"\u001b[39m\u001b[38;5;130;01m\\n\u001b[39;00m\u001b[38;5;124m\"\u001b[39m\u001b[38;5;241m.\u001b[39mjoin([\u001b[38;5;124m\"\u001b[39m\u001b[38;5;130;01m\\t\u001b[39;00m\u001b[38;5;124m\"\u001b[39m\u001b[38;5;241m.\u001b[39mjoin(row) \u001b[38;5;28;01mfor\u001b[39;00m row \u001b[38;5;129;01min\u001b[39;00m sample_rows])\n",
            "File \u001b[0;32m~/Library/CloudStorage/OneDrive-Personal/01_NDSU/WORK/NYU SPS IMC/INTG1-GC 1025 _ Database Management & Modeling/Session02/Session02_Lab/.venv/lib/python3.12/site-packages/sqlalchemy/engine/result.py:529\u001b[0m, in \u001b[0;36mResultInternal._iterator_getter.<locals>.iterrows\u001b[0;34m(self)\u001b[0m\n\u001b[1;32m    526\u001b[0m \u001b[38;5;28;01mdef\u001b[39;00m \u001b[38;5;21miterrows\u001b[39m(\u001b[38;5;28mself\u001b[39m: Result[Any]) \u001b[38;5;241m-\u001b[39m\u001b[38;5;241m>\u001b[39m Iterator[_R]:\n\u001b[1;32m    527\u001b[0m     \u001b[38;5;28;01mfor\u001b[39;00m raw_row \u001b[38;5;129;01min\u001b[39;00m \u001b[38;5;28mself\u001b[39m\u001b[38;5;241m.\u001b[39m_fetchiter_impl():\n\u001b[1;32m    528\u001b[0m         row: _InterimRowType[Any] \u001b[38;5;241m=\u001b[39m (\n\u001b[0;32m--> 529\u001b[0m             \u001b[43mmake_row\u001b[49m\u001b[43m(\u001b[49m\u001b[43mraw_row\u001b[49m\u001b[43m)\u001b[49m \u001b[38;5;28;01mif\u001b[39;00m make_row \u001b[38;5;28;01melse\u001b[39;00m raw_row\n\u001b[1;32m    530\u001b[0m         )\n\u001b[1;32m    531\u001b[0m         \u001b[38;5;28;01mif\u001b[39;00m post_creational_filter:\n\u001b[1;32m    532\u001b[0m             row \u001b[38;5;241m=\u001b[39m post_creational_filter(row)\n",
            "File \u001b[0;32mlib/sqlalchemy/cyextension/resultproxy.pyx:22\u001b[0m, in \u001b[0;36msqlalchemy.cyextension.resultproxy.BaseRow.__init__\u001b[0;34m()\u001b[0m\n",
            "File \u001b[0;32mlib/sqlalchemy/cyextension/resultproxy.pyx:79\u001b[0m, in \u001b[0;36msqlalchemy.cyextension.resultproxy._apply_processors\u001b[0;34m()\u001b[0m\n",
            "File \u001b[0;32mlib/sqlalchemy/cyextension/processors.pyx:40\u001b[0m, in \u001b[0;36msqlalchemy.cyextension.processors.str_to_datetime\u001b[0;34m()\u001b[0m\n",
            "\u001b[0;31mValueError\u001b[0m: Invalid isoformat string: '10-MAY-12'"
          ]
        }
      ],
      "source": [
        "from langchain_core.prompts import ChatPromptTemplate\n",
        "from langchain_community.utilities import SQLDatabase\n",
        "from sqlalchemy import create_engine\n",
        "from langchain_core.output_parsers import StrOutputParser\n",
        "from langchain_core.runnables import RunnablePassthrough\n",
        "from langchain_openai import ChatOpenAI\n",
        "# Load the environment variables from the .env file and # Access your API keys\n",
        "from dotenv import load_dotenv; import os; load_dotenv(); openai_api_key = os.getenv('OPENAI_API_KEY')\n",
        "\n",
        "# Template for generating SQL queries\n",
        "template = \"\"\"Based on the table schema below, write a SQL query that would answer the user's question:\n",
        "{schema}\n",
        "\n",
        "Question: {question}\n",
        "SQL Query:\"\"\"\n",
        "prompt = ChatPromptTemplate.from_template(template)\n",
        "\n",
        "# Create a database engine using SQLAlchemy\n",
        "database_path = \"/Users/kenechukwuezekwem/Library/CloudStorage/OneDrive-Personal/01_NDSU/WORK/NYU SPS IMC/INTG1-GC 1025 _ Database Management & Modeling/Session02/Session02_Lab/Lab Notes/marketing_db.sqlite\"\n",
        "connection_string = f\"sqlite:///{database_path}\"\n",
        "engine = create_engine(connection_string)\n",
        "\n",
        "# Initialize the database connection with the engine\n",
        "db = SQLDatabase(engine)\n",
        "\n",
        "def get_schema(_):\n",
        "    return db.get_table_info()\n",
        "\n",
        "def run_query(query):\n",
        "    return db.run(query)\n",
        "\n",
        "# Initialize the model for generating SQL queries\n",
        "model = ChatOpenAI()  # Replace 'your_api_key' with your actual OpenAI API key\n",
        "\n",
        "# Build the pipeline for generating and executing SQL queries\n",
        "sql_response = (\n",
        "    RunnablePassthrough.assign(schema=get_schema)\n",
        "    | prompt\n",
        "    | model.bind(stop=[\"\\nSQLResult:\"])\n",
        "    | StrOutputParser()\n",
        ")\n",
        "\n",
        "# Invoke the pipeline with a specific question\n",
        "sql_response.invoke({\"question\": \"How many employees are there?\"})\n",
        "\n",
        "template = \"\"\"Based on the table schema below, question, sql query, and sql response, write a natural language response:\n",
        "{schema}\n",
        "\n",
        "Question: {question}\n",
        "SQL Query: {query}\n",
        "SQL Response: {response}\"\"\"\n",
        "prompt_response = ChatPromptTemplate.from_template(template)\n",
        "\n",
        "full_chain = (\n",
        "    RunnablePassthrough.assign(query=sql_response).assign(\n",
        "        schema=get_schema,\n",
        "        response=lambda x: db.run(x[\"query\"]),\n",
        "    )\n",
        "    | prompt_response\n",
        "    | model\n",
        ")\n"
      ]
    },
    {
      "cell_type": "code",
      "execution_count": null,
      "metadata": {},
      "outputs": [],
      "source": [
        "def run_ai_SQL_query(question):\n",
        "    # Generate the SQL query based on the question\n",
        "    sql_query = sql_response.invoke({\"question\": question})\n",
        "\n",
        "    # Execute the SQL query and get the response\n",
        "    sql_execution_result = db.run(sql_query)\n",
        "\n",
        "    # Build the context for the natural language response\n",
        "    context = {\n",
        "        \"schema\": get_schema(None),\n",
        "        \"question\": question,\n",
        "        \"query\": sql_query,\n",
        "        \"response\": sql_execution_result\n",
        "    }\n",
        "\n",
        "    # Generate the natural language response based on the context\n",
        "    natural_language_response = full_chain.invoke(context)\n",
        "\n",
        "    # Print the SQL query, its execution result, and the natural language response with the desired formatting\n",
        "    print(f\"\"\"\n",
        "SQL Query: \n",
        "{sql_query}\n",
        "SQL Execution Result: {sql_execution_result}\n",
        "\n",
        "Natural Language Response: \n",
        "{natural_language_response}\n",
        "\"\"\")\n",
        "\n",
        "# Example usage of the function\n",
        "run_ai_SQL_query(\"How many employees have a name that starts with E?\")\n"
      ]
    },
    {
      "cell_type": "code",
      "execution_count": null,
      "metadata": {},
      "outputs": [],
      "source": [
        "run_ai_SQL_query(\"How many artists are there?\")\n"
      ]
    }
  ],
  "metadata": {
    "colab": {
      "provenance": [],
      "toc_visible": true
    },
    "kernelspec": {
      "display_name": "Python 3",
      "name": "python3"
    },
    "language_info": {
      "codemirror_mode": {
        "name": "ipython",
        "version": 3
      },
      "file_extension": ".py",
      "mimetype": "text/x-python",
      "name": "python",
      "nbconvert_exporter": "python",
      "pygments_lexer": "ipython3",
      "version": "3.12.0"
    }
  },
  "nbformat": 4,
  "nbformat_minor": 0
}
